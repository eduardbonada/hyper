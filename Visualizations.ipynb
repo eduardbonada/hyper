{
 "cells": [
  {
   "cell_type": "code",
   "execution_count": 27,
   "metadata": {
    "collapsed": true
   },
   "outputs": [],
   "source": [
    "import sqlite3\n",
    "import pandas as pd\n",
    "from datetime import datetime, timedelta\n",
    "\n",
    "%matplotlib inline\n",
    "import numpy as np\n",
    "import matplotlib as mpl\n",
    "import matplotlib.pyplot as plt\n",
    "import seaborn as sns"
   ]
  },
  {
   "cell_type": "code",
   "execution_count": 2,
   "metadata": {
    "collapsed": true
   },
   "outputs": [],
   "source": [
    "# Setup sqlite\n",
    "sqlite_file = 'hyper_live.db'\n",
    "connection = sqlite3.connect(sqlite_file)\n",
    "db = connection.cursor()"
   ]
  },
  {
   "cell_type": "code",
   "execution_count": 11,
   "metadata": {
    "collapsed": false
   },
   "outputs": [
    {
     "name": "stdout",
     "output_type": "stream",
     "text": [
      "4094 tweets in db\n"
     ]
    }
   ],
   "source": [
    "# read ALL tweets from db\n",
    "all_tweets = pd.read_sql_query(\"SELECT * FROM TweetsRaw\", connection)\n",
    "all_tweets['createdAt'] = pd.to_datetime(all_tweets['createdAt'], format ='%a %b %d %H:%M:%S +0000 %Y')\n",
    "all_tweets.index = all_tweets['createdAt']\n",
    "print(\"{} tweets in db\".format(len(all_tweets)))"
   ]
  },
  {
   "cell_type": "code",
   "execution_count": 10,
   "metadata": {
    "collapsed": false
   },
   "outputs": [
    {
     "name": "stdout",
     "output_type": "stream",
     "text": [
      "1199 band tweets in db\n"
     ]
    }
   ],
   "source": [
    "# Construct a dataframe joining data from TweetsRaw and BandTweets\n",
    "band_tweets = pd.read_sql_query(\"SELECT bt.bandId, \\\n",
    "                                        b.name AS bandName, \\\n",
    "                                        b.codedName AS bandCodedName, \\\n",
    "                                        b.headLevel AS headLevel, \\\n",
    "                                        b.popularity AS popularity, \\\n",
    "                                        tr.* \\\n",
    "                                 FROM BandTweets AS bt\\\n",
    "                                 LEFT JOIN TweetsRaw AS tr ON bt.tweetRawId == tr.id \\\n",
    "                                 LEFT JOIN Bands AS b ON bt.bandId == b.id\", connection)\n",
    "band_tweets['createdAt'] = pd.to_datetime(band_tweets['createdAt'], format ='%a %b %d %H:%M:%S +0000 %Y')\n",
    "band_tweets.index = band_tweets['createdAt']\n",
    "print(\"{} band tweets in db\".format(band_tweets.shape[0]))"
   ]
  },
  {
   "cell_type": "code",
   "execution_count": 130,
   "metadata": {
    "collapsed": false
   },
   "outputs": [
    {
     "data": {
      "text/plain": [
       "<matplotlib.legend.Legend at 0x12ac889e8>"
      ]
     },
     "execution_count": 130,
     "metadata": {},
     "output_type": "execute_result"
    },
    {
     "data": {
      "image/png": "[encoded data removed]",
      "text/plain": [
       "<matplotlib.figure.Figure at 0x126d1f3c8>"
      ]
     },
     "metadata": {},
     "output_type": "display_data"
    }
   ],
   "source": [
    "# https://chrisalbon.com/python/pandas_group_data_by_time.html\n",
    "\n",
    "# timeline plot comparing alltweets vs bandtweets\n",
    "fig = plt.figure(figsize=(8, 6))\n",
    "plt.subplots_adjust(top=1.2)\n",
    "ax1 = fig.add_subplot(211)\n",
    "all_tweets.resample('D').count()['tweetId'].plot(kind='bar', \\\n",
    "                                                 color=sns.xkcd_rgb['sky'], \\\n",
    "                                                 label='All', \\\n",
    "                                                 ax=ax1)\n",
    "band_tweets.resample('D').count()['bandId'].plot(kind='bar', \\\n",
    "                                                 color=sns.xkcd_rgb['green'], \\\n",
    "                                                 label='Bands', \\\n",
    "                                                 ax=ax1)\n",
    "ax1.set_xlabel(\"All Days\")\n",
    "ax1.set_xticklabels([])\n",
    "#ax1.set_xticklabels(list(np.arange(min(all_tweets['createdAt']).day, max(all_tweets['createdAt']).day + 1)), rotation=None)\n",
    "ax1.set_ylabel(\"Tweets\")\n",
    "ax1.legend()\n",
    "\n",
    "\n",
    "# get recent tweets (last 24h)\n",
    "recent_all_tweets = all_tweets[ all_tweets['createdAt'] > (datetime.now() - timedelta(hours=24))]\n",
    "recent_band_tweets = band_tweets[ band_tweets['createdAt'] > (datetime.now() - timedelta(hours=24))]\n",
    "\n",
    "# plot last day of tweets & band_tweets\n",
    "ax2 = fig.add_subplot(212)\n",
    "ax2 = recent_all_tweets.resample('H').count()['tweetId'].plot(kind='bar', \\\n",
    "                                                              color=sns.xkcd_rgb['sky'], \\\n",
    "                                                              label='All', \\\n",
    "                                                              ax=ax2)\n",
    "recent_band_tweets.resample('H').count()['bandId'].plot(kind='bar', \\\n",
    "                                                        color=sns.xkcd_rgb['green'], \\\n",
    "                                                        label='Bands', \\\n",
    "                                                        ax=ax2)\n",
    "ax2.set_xlabel(\"Last 24h\")\n",
    "ax2.set_xticklabels([])\n",
    "ax2.set_ylabel(\"Tweets\")\n",
    "ax2.legend()"
   ]
  },
  {
   "cell_type": "code",
   "execution_count": 26,
   "metadata": {
    "collapsed": false
   },
   "outputs": [],
   "source": [
    "# Reformat xticks\n",
    "# \n",
    "# TO-DO\n",
    "# \n",
    "# http://stackoverflow.com/questions/30133280/pandas-bar-plot-changes-date-format"
   ]
  },
  {
   "cell_type": "code",
   "execution_count": null,
   "metadata": {
    "collapsed": true
   },
   "outputs": [],
   "source": [
    "# Timeline of single bands (top-n?)\n",
    "# \n",
    "# TO-DO\n",
    "# \n",
    "# "
   ]
  },
  {
   "cell_type": "code",
   "execution_count": null,
   "metadata": {
    "collapsed": true
   },
   "outputs": [],
   "source": []
  }
 ],
 "metadata": {
  "anaconda-cloud": {},
  "kernelspec": {
   "display_name": "Python 3",
   "language": "python",
   "name": "python3"
  },
  "language_info": {
   "codemirror_mode": {
    "name": "ipython",
    "version": 3
   },
   "file_extension": ".py",
   "mimetype": "text/x-python",
   "name": "python",
   "nbconvert_exporter": "python",
   "pygments_lexer": "ipython3",
   "version": "3.6.0"
  }
 },
 "nbformat": 4,
 "nbformat_minor": 1
}
