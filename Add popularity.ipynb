{
 "cells": [
  {
   "cell_type": "markdown",
   "metadata": {},
   "source": [
    "## Add popularity from Spotify to bands.json"
   ]
  },
  {
   "cell_type": "code",
   "execution_count": 1,
   "metadata": {
    "collapsed": true
   },
   "outputs": [],
   "source": [
    "import spotipy\n",
    "import json\n",
    "import pandas as pd\n",
    "import unicodedata\n",
    "from pprint import pprint"
   ]
  },
  {
   "cell_type": "code",
   "execution_count": 2,
   "metadata": {
    "collapsed": true
   },
   "outputs": [],
   "source": [
    "sp = spotipy.Spotify()"
   ]
  },
  {
   "cell_type": "code",
   "execution_count": 3,
   "metadata": {
    "collapsed": true
   },
   "outputs": [],
   "source": [
    "def remove_accents(string):\n",
    "    return ''.join((c for c in unicodedata.normalize('NFD', string) if unicodedata.category(c) != 'Mn'))"
   ]
  },
  {
   "cell_type": "code",
   "execution_count": 4,
   "metadata": {
    "collapsed": false
   },
   "outputs": [],
   "source": [
    "def search_artist(band_name):\n",
    "    \"\"\"\n",
    "    Calls the Spotify API object and returns only one artist object\n",
    "    \"\"\"\n",
    "    \n",
    "    try:\n",
    "        # remove accents and make lowercase\n",
    "        band_name = remove_accents(band_name).lower()\n",
    "        \n",
    "        # call api\n",
    "        results = sp.search(q=band_name, limit=20, type='artist')\n",
    "        print(\"{} => {} artists found\".format(band_name, len(results)))\n",
    "        \n",
    "        # some manual changes\n",
    "        if band_name == 'chk chk chk':\n",
    "            band_name = '!!!'\n",
    "\n",
    "        # return only one artist\n",
    "        if results['artists']['total'] > 0:\n",
    "            return [artist for artist in results['artists']['items'] if remove_accents(artist['name']).lower() == band_name][0]\n",
    "        else:\n",
    "            return []\n",
    "\n",
    "    except:\n",
    "        print('Error')\n",
    "        return []"
   ]
  },
  {
   "cell_type": "code",
   "execution_count": 8,
   "metadata": {
    "collapsed": true
   },
   "outputs": [
    {
     "data": {
      "text/plain": [
       "\"\\n# Get all artists from Spotify API\\nall_artists = []\\nfor band_name in band_names:\\n    artist = search_artist(band_name)\\n    if len(artist) > 0:\\n        all_artists.append(artist)\\n\\n# persist artists downloaded\\nwith open('spotipy_artists.json', 'w') as fp:\\n    json.dump(all_artists, fp)\\n\""
      ]
     },
     "execution_count": 8,
     "metadata": {},
     "output_type": "execute_result"
    }
   ],
   "source": [
    "\"\"\"\n",
    "# Get all artists from Spotify API\n",
    "all_artists = []\n",
    "for band_name in band_names:\n",
    "    artist = search_artist(band_name)\n",
    "    if len(artist) > 0:\n",
    "        all_artists.append(artist)\n",
    "\n",
    "# persist artists downloaded\n",
    "with open('spotipy_artists.json', 'w') as fp:\n",
    "    json.dump(all_artists, fp)\n",
    "\"\"\""
   ]
  },
  {
   "cell_type": "code",
   "execution_count": 7,
   "metadata": {
    "collapsed": false
   },
   "outputs": [
    {
     "name": "stdout",
     "output_type": "stream",
     "text": [
      "227 artists read\n"
     ]
    }
   ],
   "source": [
    "# read from file if already downloaded\n",
    "json_data=open('spotipy_artists.json').read()\n",
    "all_artists = json.loads(json_data)\n",
    "print(\"{} artists read\".format(len(all_artists)))"
   ]
  },
  {
   "cell_type": "code",
   "execution_count": 37,
   "metadata": {
    "collapsed": true
   },
   "outputs": [],
   "source": [
    "# Extract band name and popularity\n",
    "popularities = {}\n",
    "for a in all_artists:\n",
    "    popularities[remove_accents(a['name'].lower())] = a['popularity']"
   ]
  },
  {
   "cell_type": "code",
   "execution_count": 79,
   "metadata": {
    "collapsed": false
   },
   "outputs": [
    {
     "name": "stdout",
     "output_type": "stream",
     "text": [
      "268 bands read\n"
     ]
    }
   ],
   "source": [
    "# Read the festival bands and construct a list of band_names\n",
    "json_data=open('bands.json').read()\n",
    "bands = json.loads(json_data)\n",
    "print(\"{} bands read\".format(len(bands)))"
   ]
  },
  {
   "cell_type": "code",
   "execution_count": 80,
   "metadata": {
    "collapsed": true
   },
   "outputs": [
    {
     "name": "stdout",
     "output_type": "stream",
     "text": [
      "Error in band chk chk chk\n",
      "Error in band Âme live\n",
      "Error in band Aurora Halal\n",
      "Error in band Autarkic live\n",
      "Error in band Ben UFO\n",
      "Error in band Conttra\n",
      "Error in band Dave P.\n",
      "Error in band Dirty Porko & Crie930\n",
      "Error in band Dirty Porko\n",
      "Error in band Crie930\n",
      "Error in band Discos Paradiso Crew\n",
      "Error in band Dj Dustin\n",
      "Error in band ELMINI\n",
      "Error in band Fairmont live\n",
      "Error in band The Harlock\n",
      "Error in band Jazz\n",
      "Error in band Junun\n",
      "Error in band Kepa Junkera & Los Hermanos Cubero\n",
      "Error in band King Gizzard\n",
      "Error in band The Lizard Wizard\n",
      "Error in band The Make-Up\n",
      "Error in band Marta Delmont\n",
      "Error in band Medalla\n",
      "Error in band Patrick Codenys (Front 242)\n",
      "Error in band Pender Street Steppers\n",
      "Error in band Playback Maracas\n",
      "Error in band Polseguera\n",
      "Error in band Rosalía & Raül Refree\n",
      "Error in band Raül Refree\n",
      "Error in band Royal Trux\n",
      "Error in band SALFVMAN\n",
      "Error in band This Is Not This Heat\n",
      "Error in band vàlius + Carlora Serrahima\n",
      "Error in band Vladimir Ivkovic\n",
      "Error in band DIEALRIGHT\n",
      "Error in band G-C\n",
      "Error in band Hanba!\n",
      "Error in band Inzul\n",
      "Error in band Me & The Plant\n",
      "Error in band Radio 123\n",
      "Error in band RBP\n"
     ]
    }
   ],
   "source": [
    "# add popularity to bands list\n",
    "for b in bands:\n",
    "    try:\n",
    "        b['popularity'] = popularities[remove_accents(b['name'].lower())]\n",
    "    except:\n",
    "        print(\"Error in band {}\".format(b['name']))"
   ]
  },
  {
   "cell_type": "code",
   "execution_count": 81,
   "metadata": {
    "collapsed": false
   },
   "outputs": [],
   "source": [
    "bands_df = pd.DataFrame(bands)"
   ]
  },
  {
   "cell_type": "code",
   "execution_count": 82,
   "metadata": {
    "collapsed": false
   },
   "outputs": [
    {
     "data": {
      "text/plain": [
       "<matplotlib.axes._subplots.AxesSubplot at 0x11a3dd2e8>"
      ]
     },
     "execution_count": 82,
     "metadata": {},
     "output_type": "execute_result"
    },
    {
     "data": {
      "image/png": "[encoded data removed]",
      "text/plain": [
       "<matplotlib.figure.Figure at 0x11aa9a780>"
      ]
     },
     "metadata": {},
     "output_type": "display_data"
    }
   ],
   "source": [
    "%matplotlib inline\n",
    "import numpy as np\n",
    "import matplotlib as mpl\n",
    "import matplotlib.pyplot as plt\n",
    "import seaborn as sns\n",
    "\n",
    "bands_df.plot.scatter('headLevel','popularity')"
   ]
  },
  {
   "cell_type": "code",
   "execution_count": 85,
   "metadata": {
    "collapsed": false
   },
   "outputs": [],
   "source": [
    "# persist the new bands object into file\n",
    "with open('bands_new.json', 'w') as fp:\n",
    "    json.dump(bands, fp)"
   ]
  },
  {
   "cell_type": "code",
   "execution_count": 110,
   "metadata": {
    "collapsed": false
   },
   "outputs": [
    {
     "data": {
      "text/plain": [
       "34.083700440528638"
      ]
     },
     "execution_count": 110,
     "metadata": {},
     "output_type": "execute_result"
    }
   ],
   "source": [
    "np.mean(list(popularities.values()))"
   ]
  },
  {
   "cell_type": "code",
   "execution_count": null,
   "metadata": {
    "collapsed": true
   },
   "outputs": [],
   "source": []
  }
 ],
 "metadata": {
  "anaconda-cloud": {},
  "kernelspec": {
   "display_name": "Python [conda root]",
   "language": "python",
   "name": "conda-root-py"
  },
  "language_info": {
   "codemirror_mode": {
    "name": "ipython",
    "version": 3
   },
   "file_extension": ".py",
   "mimetype": "text/x-python",
   "name": "python",
   "nbconvert_exporter": "python",
   "pygments_lexer": "ipython3",
   "version": "3.5.2"
  }
 },
 "nbformat": 4,
 "nbformat_minor": 1
}
