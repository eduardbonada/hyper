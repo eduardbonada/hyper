{
 "cells": [
  {
   "cell_type": "markdown",
   "metadata": {},
   "source": [
    "# Hyper\n",
    "\n",
    "A script to detect the most hyped (popular) bands of a festival"
   ]
  },
  {
   "cell_type": "code",
   "execution_count": 1,
   "metadata": {
    "collapsed": true
   },
   "outputs": [],
   "source": [
    "# https://www.dataquest.io/blog/python-pandas-databases/"
   ]
  },
  {
   "cell_type": "code",
   "execution_count": 22,
   "metadata": {
    "collapsed": true
   },
   "outputs": [],
   "source": [
    "import sqlite3\n",
    "import pandas as pd\n",
    "import string\n",
    "import unicodedata"
   ]
  },
  {
   "cell_type": "markdown",
   "metadata": {},
   "source": [
    "## Load Data"
   ]
  },
  {
   "cell_type": "code",
   "execution_count": 3,
   "metadata": {
    "collapsed": true
   },
   "outputs": [],
   "source": [
    "# Setup sqlite\n",
    "sqlite_file = 'hyper.db'\n",
    "\n",
    "# Connect to the database sqlite file\n",
    "connection = sqlite3.connect(sqlite_file)\n",
    "db = connection.cursor()"
   ]
  },
  {
   "cell_type": "code",
   "execution_count": 68,
   "metadata": {
    "collapsed": false
   },
   "outputs": [
    {
     "data": {
      "text/html": [
       "<div>\n",
       "<table border=\"1\" class=\"dataframe\">\n",
       "  <thead>\n",
       "    <tr style=\"text-align: right;\">\n",
       "      <th></th>\n",
       "      <th>id</th>\n",
       "      <th>name</th>\n",
       "      <th>codedName</th>\n",
       "      <th>twitterName</th>\n",
       "    </tr>\n",
       "  </thead>\n",
       "  <tbody>\n",
       "    <tr>\n",
       "      <th>0</th>\n",
       "      <td>1</td>\n",
       "      <td>Arcade Fire</td>\n",
       "      <td>arcadefire</td>\n",
       "      <td>@arcadefire</td>\n",
       "    </tr>\n",
       "    <tr>\n",
       "      <th>1</th>\n",
       "      <td>2</td>\n",
       "      <td>Bon Iver</td>\n",
       "      <td>boniver</td>\n",
       "      <td>@boniver</td>\n",
       "    </tr>\n",
       "    <tr>\n",
       "      <th>2</th>\n",
       "      <td>3</td>\n",
       "      <td>Mishima</td>\n",
       "      <td>mishima</td>\n",
       "      <td>@mishima</td>\n",
       "    </tr>\n",
       "    <tr>\n",
       "      <th>3</th>\n",
       "      <td>4</td>\n",
       "      <td>!!!</td>\n",
       "      <td>!!!</td>\n",
       "      <td>@chkchkchk</td>\n",
       "    </tr>\n",
       "    <tr>\n",
       "      <th>4</th>\n",
       "      <td>5</td>\n",
       "      <td>Anímic</td>\n",
       "      <td>animic</td>\n",
       "      <td>@animic</td>\n",
       "    </tr>\n",
       "  </tbody>\n",
       "</table>\n",
       "</div>"
      ],
      "text/plain": [
       "   id         name   codedName  twitterName\n",
       "0   1  Arcade Fire  arcadefire  @arcadefire\n",
       "1   2     Bon Iver     boniver     @boniver\n",
       "2   3      Mishima     mishima     @mishima\n",
       "3   4          !!!         !!!   @chkchkchk\n",
       "4   5       Anímic      animic      @animic"
      ]
     },
     "execution_count": 68,
     "metadata": {},
     "output_type": "execute_result"
    }
   ],
   "source": [
    "# get list of bands\n",
    "bands = pd.read_sql_query(\"SELECT * FROM Bands limit 10;\", connection)\n",
    "bands.head()"
   ]
  },
  {
   "cell_type": "code",
   "execution_count": 59,
   "metadata": {
    "collapsed": false
   },
   "outputs": [],
   "source": [
    "# read tweets from db\n",
    "tweets = pd.read_sql_query(\"SELECT * FROM TweetsRaw limit 10;\", connection)\n",
    "#tweets.head()\n",
    "#tweets.describe()"
   ]
  },
  {
   "cell_type": "markdown",
   "metadata": {},
   "source": [
    "## Partition per band\n",
    "\n",
    "Look for tweets talking about bands and re-create data structure in a band-centered way"
   ]
  },
  {
   "cell_type": "code",
   "execution_count": 111,
   "metadata": {
    "collapsed": false
   },
   "outputs": [],
   "source": [
    "def extract_bands(tweet):\n",
    "    \"\"\"\n",
    "    Function that extracts the bands from a tweet text\n",
    "    Returns a list of bands\n",
    "    \"\"\"\n",
    "    \n",
    "    # init list to return\n",
    "    bands_in_tweet = []\n",
    "    \n",
    "    # loop all bands and check of any of the written forms is present in the tweet text\n",
    "    for i, b in bands.iterrows():\n",
    "                \n",
    "        # set different band names writing possibilities\n",
    "        bandname = b['name']\n",
    "        bandname_lowercase = bandname.lower()\n",
    "        bandname_lowercase_no_spaces = ''.join(bandname_lowercase.split())\n",
    "        bandname_lowercase_no_accents = ''.join((c for c in unicodedata.normalize('NFD', bandname_lowercase) if unicodedata.category(c) != 'Mn'))\n",
    "        bandname_lowercase_no_spaces_no_accents = ''.join((c for c in unicodedata.normalize('NFD', bandname_lowercase_no_spaces) if unicodedata.category(c) != 'Mn'))\n",
    "\n",
    "        # check if any of the forms is in the tweet text\n",
    "        if any(s in tweet['tweetText'].lower() for s in [bandname_lowercase, bandname_lowercase_no_spaces, bandname_lowercase_no_accents, bandname_lowercase_no_spaces_no_accents, b['twitterName']]):\n",
    "            bands_in_tweet.append({\"id\": b['id'], \"codedName\": b['codedName']})\n",
    "\n",
    "    return bands_in_tweet"
   ]
  },
  {
   "cell_type": "code",
   "execution_count": 112,
   "metadata": {
    "collapsed": false
   },
   "outputs": [],
   "source": [
    "# extract bands for each tweet\n",
    "tweets['bands'] = tweets.apply(extract_bands, axis=1)"
   ]
  },
  {
   "cell_type": "code",
   "execution_count": 158,
   "metadata": {
    "collapsed": false
   },
   "outputs": [],
   "source": [
    "def band_partition(tweet):\n",
    "    \"\"\"\n",
    "    Function that reads a single tweet info and adds into a list the tweet information partitioned by bands.\n",
    "    I.e. If a tweet mentions 2 bands, it adds a list of 2 dicts with the tweet info\n",
    "    \"\"\"\n",
    "\n",
    "    # loop all bands and add an entry to the list\n",
    "    for b in tweet['bands']:\n",
    "        band_tweets_list.append({\\\n",
    "                                 \"tweetRawId\" : tweet['id'],\\\n",
    "                                 \"createdAt\" : tweet['createdAt'],\\\n",
    "                                 \"storedAt\" : tweet['storedAt'],\\\n",
    "                                 \"bandId\" : b['id'],\\\n",
    "                                 \"bandCodedName\" : b['codedName'],\\\n",
    "                                 \"favsCount\" : tweet['favsCount'],\\\n",
    "                                 \"rtsCount\" : tweet['rtsCount'],\\\n",
    "                                 \"language\" : tweet['language'],\\\n",
    "                                 \"userId\" : tweet['userId'],\\\n",
    "                                 \"userFriendsCount\" : tweet['userFriendsCount'],\\\n",
    "                                 \"userFollowersCount\" : tweet['userFollowersCount'],\\\n",
    "                                 \"userStatusesCount\" : tweet['userStatusesCount'],\\\n",
    "                                 \"userFavsCount\" : tweet['userFavsCount'],\\\n",
    "                                 \"userLocation\" : tweet['userLocation']\\\n",
    "                                })"
   ]
  },
  {
   "cell_type": "code",
   "execution_count": 163,
   "metadata": {
    "collapsed": false
   },
   "outputs": [
    {
     "data": {
      "text/html": [
       "<div>\n",
       "<table border=\"1\" class=\"dataframe\">\n",
       "  <thead>\n",
       "    <tr style=\"text-align: right;\">\n",
       "      <th></th>\n",
       "      <th>bandCodedName</th>\n",
       "      <th>bandId</th>\n",
       "      <th>createdAt</th>\n",
       "      <th>favsCount</th>\n",
       "      <th>language</th>\n",
       "      <th>rtsCount</th>\n",
       "      <th>storedAt</th>\n",
       "      <th>tweetRawId</th>\n",
       "      <th>userFavsCount</th>\n",
       "      <th>userFollowersCount</th>\n",
       "      <th>userFriendsCount</th>\n",
       "      <th>userId</th>\n",
       "      <th>userLocation</th>\n",
       "      <th>userStatusesCount</th>\n",
       "    </tr>\n",
       "  </thead>\n",
       "  <tbody>\n",
       "    <tr>\n",
       "      <th>0</th>\n",
       "      <td>arcadefire</td>\n",
       "      <td>1</td>\n",
       "      <td>Mon May 01 10:58:45 +0200 2017</td>\n",
       "      <td>79</td>\n",
       "      <td>la</td>\n",
       "      <td>87</td>\n",
       "      <td>Mon May 01 10:58:45 +0200 2017</td>\n",
       "      <td>2</td>\n",
       "      <td>6825</td>\n",
       "      <td>416</td>\n",
       "      <td>0</td>\n",
       "      <td>522</td>\n",
       "      <td>Barcelona</td>\n",
       "      <td>7438</td>\n",
       "    </tr>\n",
       "    <tr>\n",
       "      <th>1</th>\n",
       "      <td>mishima</td>\n",
       "      <td>3</td>\n",
       "      <td>Mon May 01 10:58:45 +0200 2017</td>\n",
       "      <td>79</td>\n",
       "      <td>la</td>\n",
       "      <td>87</td>\n",
       "      <td>Mon May 01 10:58:45 +0200 2017</td>\n",
       "      <td>2</td>\n",
       "      <td>6825</td>\n",
       "      <td>416</td>\n",
       "      <td>0</td>\n",
       "      <td>522</td>\n",
       "      <td>Barcelona</td>\n",
       "      <td>7438</td>\n",
       "    </tr>\n",
       "    <tr>\n",
       "      <th>2</th>\n",
       "      <td>mishima</td>\n",
       "      <td>3</td>\n",
       "      <td>Mon May 01 10:58:45 +0200 2017</td>\n",
       "      <td>40</td>\n",
       "      <td>la</td>\n",
       "      <td>2</td>\n",
       "      <td>Mon May 01 10:58:45 +0200 2017</td>\n",
       "      <td>4</td>\n",
       "      <td>4262</td>\n",
       "      <td>784</td>\n",
       "      <td>0</td>\n",
       "      <td>203</td>\n",
       "      <td>Barcelona</td>\n",
       "      <td>2471</td>\n",
       "    </tr>\n",
       "    <tr>\n",
       "      <th>3</th>\n",
       "      <td>arcadefire</td>\n",
       "      <td>1</td>\n",
       "      <td>Mon May 01 10:58:45 +0200 2017</td>\n",
       "      <td>4</td>\n",
       "      <td>la</td>\n",
       "      <td>91</td>\n",
       "      <td>Mon May 01 10:58:45 +0200 2017</td>\n",
       "      <td>5</td>\n",
       "      <td>225</td>\n",
       "      <td>164</td>\n",
       "      <td>7</td>\n",
       "      <td>894</td>\n",
       "      <td>Barcelona</td>\n",
       "      <td>9958</td>\n",
       "    </tr>\n",
       "    <tr>\n",
       "      <th>4</th>\n",
       "      <td>mishima</td>\n",
       "      <td>3</td>\n",
       "      <td>Mon May 01 10:58:45 +0200 2017</td>\n",
       "      <td>4</td>\n",
       "      <td>la</td>\n",
       "      <td>91</td>\n",
       "      <td>Mon May 01 10:58:45 +0200 2017</td>\n",
       "      <td>5</td>\n",
       "      <td>225</td>\n",
       "      <td>164</td>\n",
       "      <td>7</td>\n",
       "      <td>894</td>\n",
       "      <td>Barcelona</td>\n",
       "      <td>9958</td>\n",
       "    </tr>\n",
       "  </tbody>\n",
       "</table>\n",
       "</div>"
      ],
      "text/plain": [
       "  bandCodedName  bandId                       createdAt  favsCount language  \\\n",
       "0    arcadefire       1  Mon May 01 10:58:45 +0200 2017         79       la   \n",
       "1       mishima       3  Mon May 01 10:58:45 +0200 2017         79       la   \n",
       "2       mishima       3  Mon May 01 10:58:45 +0200 2017         40       la   \n",
       "3    arcadefire       1  Mon May 01 10:58:45 +0200 2017          4       la   \n",
       "4       mishima       3  Mon May 01 10:58:45 +0200 2017          4       la   \n",
       "\n",
       "   rtsCount                        storedAt  tweetRawId  userFavsCount  \\\n",
       "0        87  Mon May 01 10:58:45 +0200 2017           2           6825   \n",
       "1        87  Mon May 01 10:58:45 +0200 2017           2           6825   \n",
       "2         2  Mon May 01 10:58:45 +0200 2017           4           4262   \n",
       "3        91  Mon May 01 10:58:45 +0200 2017           5            225   \n",
       "4        91  Mon May 01 10:58:45 +0200 2017           5            225   \n",
       "\n",
       "   userFollowersCount  userFriendsCount userId userLocation  userStatusesCount  \n",
       "0                 416                 0    522    Barcelona               7438  \n",
       "1                 416                 0    522    Barcelona               7438  \n",
       "2                 784                 0    203    Barcelona               2471  \n",
       "3                 164                 7    894    Barcelona               9958  \n",
       "4                 164                 7    894    Barcelona               9958  "
      ]
     },
     "execution_count": 163,
     "metadata": {},
     "output_type": "execute_result"
    }
   ],
   "source": [
    "# construct the list of tweets per band\n",
    "band_tweets_list = []\n",
    "tweets.apply(band_partition, axis=1);\n",
    "\n",
    "# create a dataframe from the previous list\n",
    "band_tweets = pd.DataFrame.from_dict(band_tweets_list)\n",
    "band_tweets.head(5)"
   ]
  },
  {
   "cell_type": "code",
   "execution_count": null,
   "metadata": {
    "collapsed": true
   },
   "outputs": [],
   "source": []
  }
 ],
 "metadata": {
  "anaconda-cloud": {},
  "kernelspec": {
   "display_name": "Python [conda root]",
   "language": "python",
   "name": "conda-root-py"
  },
  "language_info": {
   "codemirror_mode": {
    "name": "ipython",
    "version": 3
   },
   "file_extension": ".py",
   "mimetype": "text/x-python",
   "name": "python",
   "nbconvert_exporter": "python",
   "pygments_lexer": "ipython3",
   "version": "3.5.2"
  }
 },
 "nbformat": 4,
 "nbformat_minor": 1
}
