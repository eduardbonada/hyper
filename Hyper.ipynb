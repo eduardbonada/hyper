{
 "cells": [
  {
   "cell_type": "markdown",
   "metadata": {},
   "source": [
    "# Hyper\n",
    "\n",
    "A script to detect the most hyped (popular) bands of a festival"
   ]
  },
  {
   "cell_type": "code",
   "execution_count": 1,
   "metadata": {
    "collapsed": true
   },
   "outputs": [],
   "source": [
    "# https://www.dataquest.io/blog/python-pandas-databases/"
   ]
  },
  {
   "cell_type": "code",
   "execution_count": 5,
   "metadata": {
    "collapsed": true
   },
   "outputs": [],
   "source": [
    "import sqlite3\n",
    "import pandas as pd\n",
    "import string\n",
    "import unicodedata\n",
    "import numpy as np"
   ]
  },
  {
   "cell_type": "markdown",
   "metadata": {},
   "source": [
    "## Load Data"
   ]
  },
  {
   "cell_type": "code",
   "execution_count": 7,
   "metadata": {
    "collapsed": false
   },
   "outputs": [],
   "source": [
    "# Setup sqlite\n",
    "sqlite_file = 'hyper.db'\n",
    "\n",
    "# Connect to the database sqlite file\n",
    "connection = sqlite3.connect(sqlite_file)\n",
    "db = connection.cursor()"
   ]
  },
  {
   "cell_type": "code",
   "execution_count": 8,
   "metadata": {
    "collapsed": false
   },
   "outputs": [
    {
     "name": "stdout",
     "output_type": "stream",
     "text": [
      "268 bands read\n"
     ]
    }
   ],
   "source": [
    "# get list of bands from db\n",
    "bands = pd.read_sql_query(\"SELECT * FROM Bands;\", connection)\n",
    "print(\"{} bands read\".format(len(bands)))\n",
    "#bands.head()"
   ]
  },
  {
   "cell_type": "code",
   "execution_count": 9,
   "metadata": {
    "collapsed": false
   },
   "outputs": [
    {
     "name": "stdout",
     "output_type": "stream",
     "text": [
      "1740 tweets in db\n"
     ]
    }
   ],
   "source": [
    "# read ALL tweets from db\n",
    "all_tweets = pd.read_sql_query(\"SELECT * FROM TweetsRaw\", connection)\n",
    "print(\"{} tweets in db\".format(len(all_tweets)))"
   ]
  },
  {
   "cell_type": "code",
   "execution_count": 10,
   "metadata": {
    "collapsed": false
   },
   "outputs": [
    {
     "name": "stdout",
     "output_type": "stream",
     "text": [
      "239 tweets to be processed\n"
     ]
    }
   ],
   "source": [
    "# read ONLY tweets that have to be processed\n",
    "tweets_to_process = pd.read_sql_query(\"SELECT * FROM TweetsRaw WHERE processed IS NULL\", connection)\n",
    "print(\"{} tweets to be processed\".format(len(tweets_to_process)))"
   ]
  },
  {
   "cell_type": "code",
   "execution_count": 6,
   "metadata": {
    "collapsed": false
   },
   "outputs": [],
   "source": [
    "# read ONLY tweets that have to be processed\n",
    "#tweets_to_process = pd.read_sql_query(\"SELECT tr.* FROM TweetsRaw AS tr \\\n",
    "#                                       LEFT JOIN BandTweets AS bt ON tr.id == bt.tweetRawId \\\n",
    "#                                       WHERE bt.tweetRawId IS NULL\", connection)\n",
    "#print(\"{} tweets to process\".format(len(tweets_to_process)))"
   ]
  },
  {
   "cell_type": "code",
   "execution_count": 7,
   "metadata": {
    "collapsed": false
   },
   "outputs": [],
   "source": [
    "# tweets_to_process = tweets_to_process.head(50)\n",
    "# print(\"{} tweets to process (!!!REMOVE!!!)\".format(len(tweets_to_process)))"
   ]
  },
  {
   "cell_type": "markdown",
   "metadata": {},
   "source": [
    "## Partition per band\n",
    "\n",
    "Look for tweets talking about bands and re-create data structure in a band-centered way"
   ]
  },
  {
   "cell_type": "code",
   "execution_count": 11,
   "metadata": {
    "collapsed": false
   },
   "outputs": [],
   "source": [
    "def extract_bands(tweet):\n",
    "    \"\"\"\n",
    "    Function that extracts the bands from a tweet text\n",
    "    Returns a list of bands\n",
    "    \"\"\"\n",
    "    \n",
    "    # init list to return\n",
    "    bands_in_tweet = []\n",
    "    \n",
    "    # loop all bands and check of any of the written forms is present in the tweet text\n",
    "    for i, b in bands.iterrows():\n",
    "                \n",
    "        # set different band names writing possibilities\n",
    "        bandname = b['name']\n",
    "        bandname_lowercase = bandname.lower()\n",
    "        bandname_lowercase_no_spaces = ''.join(bandname_lowercase.split())\n",
    "        bandname_lowercase_no_accents = ''.join((c for c in unicodedata.normalize('NFD', bandname_lowercase) if unicodedata.category(c) != 'Mn'))\n",
    "        bandname_lowercase_no_spaces_no_accents = ''.join((c for c in unicodedata.normalize('NFD', bandname_lowercase_no_spaces) if unicodedata.category(c) != 'Mn'))\n",
    "\n",
    "        # check if any of the forms is in the tweet text\n",
    "        if any(s in tweet['tweetText'].lower() for s in [bandname_lowercase, bandname_lowercase_no_spaces, bandname_lowercase_no_accents, bandname_lowercase_no_spaces_no_accents, b['twitterName']]):\n",
    "            bands_in_tweet.append({\"id\": b['id'], \"codedName\": b['codedName']})\n",
    "\n",
    "    return bands_in_tweet"
   ]
  },
  {
   "cell_type": "code",
   "execution_count": 12,
   "metadata": {
    "collapsed": false
   },
   "outputs": [],
   "source": [
    "def band_partition(tweet):\n",
    "    \"\"\"\n",
    "    Function that reads a single tweet info and adds into a list the tweet information partitioned by bands.\n",
    "    I.e. If a tweet mentions 2 bands, it adds a list of 2 dicts with the tweet info\n",
    "    \"\"\"\n",
    "    \n",
    "    # loop all bands and add an entry to the list\n",
    "    for b in tweet['bands']:\n",
    "        new_band_tweets_list.append({\\\n",
    "                                 \"tweetRawId\" : tweet['id'],\\\n",
    "                                 \"createdAt\" : tweet['createdAt'],\\\n",
    "                                 \"storedAt\" : tweet['storedAt'],\\\n",
    "                                 \"bandId\" : b['id'],\\\n",
    "                                 \"bandCodedName\" : b['codedName'],\\\n",
    "                                 \"favsCount\" : tweet['favsCount'],\\\n",
    "                                 \"rtsCount\" : tweet['rtsCount'],\\\n",
    "                                 \"language\" : tweet['language'],\\\n",
    "                                 \"userId\" : tweet['userId'],\\\n",
    "                                 \"userFriendsCount\" : tweet['userFriendsCount'],\\\n",
    "                                 \"userFollowersCount\" : tweet['userFollowersCount'],\\\n",
    "                                 \"userStatusesCount\" : tweet['userStatusesCount'],\\\n",
    "                                 \"userFavsCount\" : tweet['userFavsCount'],\\\n",
    "                                 \"userLocation\" : tweet['userLocation']\\\n",
    "                                })\n",
    "    \n",
    "    # Mark TweetsRaw as processed\n",
    "    db.execute(\"UPDATE TweetsRaw SET processed = 1 WHERE id == {}\".format(tweet.id))\n",
    "    connection.commit()"
   ]
  },
  {
   "cell_type": "code",
   "execution_count": 13,
   "metadata": {
    "collapsed": false
   },
   "outputs": [
    {
     "name": "stdout",
     "output_type": "stream",
     "text": [
      "78 band-tweets\n"
     ]
    }
   ],
   "source": [
    "if(tweets_to_process.shape[0] > 0):\n",
    "\n",
    "    # extract bands for each tweet\n",
    "    tweets_to_process['bands'] = tweets_to_process.apply(extract_bands, axis=1)\n",
    "\n",
    "    # construct the list of tweets per band\n",
    "    new_band_tweets_list = []\n",
    "    tweets_to_process.apply(band_partition, axis=1);\n",
    "\n",
    "    # create a dataframe from the previous list\n",
    "    new_band_tweets = pd.DataFrame.from_dict(new_band_tweets_list)\n",
    "    print(\"{} band-tweets\".format(new_band_tweets.shape[0]))\n",
    "else:\n",
    "    new_band_tweets = pd.DataFrame([])\n",
    "    print(\"No new tweets to process\")"
   ]
  },
  {
   "cell_type": "code",
   "execution_count": 14,
   "metadata": {
    "collapsed": false
   },
   "outputs": [
    {
     "name": "stdout",
     "output_type": "stream",
     "text": [
      "78 new band tweets persisted\n"
     ]
    }
   ],
   "source": [
    "# Persist extracted tweets in DB (BandTweets table)\n",
    "if(new_band_tweets.shape[0] > 0):\n",
    "    new_band_tweets[['tweetRawId', 'bandId']].to_sql('BandTweets', connection, if_exists='append')\n",
    "    print(\"{} new band tweets persisted\".format(new_band_tweets.shape[0]))\n",
    "else:\n",
    "    print(\"No new band tweets to persist\")"
   ]
  },
  {
   "cell_type": "markdown",
   "metadata": {},
   "source": [
    "## Explore Band-Tweet Data"
   ]
  },
  {
   "cell_type": "code",
   "execution_count": 15,
   "metadata": {
    "collapsed": false
   },
   "outputs": [
    {
     "name": "stdout",
     "output_type": "stream",
     "text": [
      "459 band tweets in db\n"
     ]
    }
   ],
   "source": [
    "# Construct a dataframe joining data from TweetsRaw and BandTweets\n",
    "band_tweets = pd.read_sql_query(\"SELECT bt.bandId, \\\n",
    "                                        b.name AS bandName, \\\n",
    "                                        b.codedName AS bandCodedName, \\\n",
    "                                        b.headLevel AS headLevel, \\\n",
    "                                        tr.* \\\n",
    "                                 FROM BandTweets AS bt\\\n",
    "                                 LEFT JOIN TweetsRaw AS tr ON bt.tweetRawId == tr.id \\\n",
    "                                 LEFT JOIN Bands AS b ON bt.bandId == b.id\", connection)\n",
    "print(\"{} band tweets in db\".format(band_tweets.shape[0]))"
   ]
  },
  {
   "cell_type": "code",
   "execution_count": 16,
   "metadata": {
    "collapsed": false
   },
   "outputs": [
    {
     "name": "stdout",
     "output_type": "stream",
     "text": [
      "bandCodedName\n",
      "frankocean            32\n",
      "!!!                   29\n",
      "arcadefire            25\n",
      "tie                   20\n",
      "belako                16\n",
      "solange               14\n",
      "thecrabapples         14\n",
      "slayer                13\n",
      "keems                 12\n",
      "pond                  12\n",
      "glassanimals          12\n",
      "runthejewels          10\n",
      "boniver                8\n",
      "macdemarco             8\n",
      "pavvla                 8\n",
      "gas                    7\n",
      "seujorge               7\n",
      "barbott                6\n",
      "grandaddy              6\n",
      "museless               6\n",
      "leyya                  6\n",
      "angelolsen             5\n",
      "thewavepictures        5\n",
      "berritxarrak           5\n",
      "astronautproject       5\n",
      "clubz                  4\n",
      "mishima                4\n",
      "hvob                   4\n",
      "kinggizzard            4\n",
      "rosalia                4\n",
      "                      ..\n",
      "phurpa                 1\n",
      "theafghanwhigs         1\n",
      "thedamned              1\n",
      "swetshopboys           1\n",
      "kevinmorby             1\n",
      "descendents            1\n",
      "maquinatotal           1\n",
      "kink                   1\n",
      "kokoshca               1\n",
      "juliajacklin           1\n",
      "ladywray               1\n",
      "jardindelacroix        1\n",
      "japandroids            1\n",
      "jackmaster             1\n",
      "innercut               1\n",
      "mannequinpussy         1\n",
      "hamiltonleithauser     1\n",
      "marcpinol              1\n",
      "diealright             1\n",
      "goldclass              1\n",
      "gojira                 1\n",
      "martadelmont           1\n",
      "metronomy              1\n",
      "moscoman               1\n",
      "flyinglotus            1\n",
      "nots                   1\n",
      "papatopo               1\n",
      "patients               1\n",
      "khidja                 1\n",
      "djcoco                 1\n",
      "dtype: int64\n"
     ]
    }
   ],
   "source": [
    "# Count tweets per band\n",
    "print(band_tweets.groupby('bandCodedName').size().sort_values(ascending=False))"
   ]
  },
  {
   "cell_type": "code",
   "execution_count": 17,
   "metadata": {
    "collapsed": false
   },
   "outputs": [
    {
     "name": "stdout",
     "output_type": "stream",
     "text": [
      "Tweets about thewavepictures:  5\n",
      "Total Favs of thewavepictures: 10\n",
      "Total RTs of thewavepictures:  0\n"
     ]
    }
   ],
   "source": [
    "# Count measures of a given band\n",
    "bandCodedName = 'thewavepictures'\n",
    "print(\"Tweets about {}:  {}\".format(bandCodedName,band_tweets.groupby('bandCodedName').size()[bandCodedName]))\n",
    "print(\"Total Favs of {}: {}\".format(bandCodedName,band_tweets.groupby('bandCodedName').sum()['favsCount'][bandCodedName]))\n",
    "print(\"Total RTs of {}:  {}\".format(bandCodedName,band_tweets.groupby('bandCodedName').sum()['rtsCount'][bandCodedName]))"
   ]
  },
  {
   "cell_type": "markdown",
   "metadata": {},
   "source": [
    "## Explore Band-Tweet Timelines"
   ]
  },
  {
   "cell_type": "code",
   "execution_count": 18,
   "metadata": {
    "collapsed": true
   },
   "outputs": [],
   "source": [
    "%matplotlib inline\n",
    "import numpy as np\n",
    "import matplotlib as mpl\n",
    "import matplotlib.pyplot as plt\n",
    "import seaborn as sns"
   ]
  },
  {
   "cell_type": "code",
   "execution_count": 19,
   "metadata": {
    "collapsed": false
   },
   "outputs": [
    {
     "data": {
      "text/plain": [
       "<matplotlib.axes._subplots.AxesSubplot at 0x1172261d0>"
      ]
     },
     "execution_count": 19,
     "metadata": {},
     "output_type": "execute_result"
    },
    {
     "data": {
      "image/png": "[encoded data removed]",
      "text/plain": [
       "<matplotlib.figure.Figure at 0x1142a69b0>"
      ]
     },
     "metadata": {},
     "output_type": "display_data"
    }
   ],
   "source": [
    "# timeline of tweets - all bands\n",
    "# https://chrisalbon.com/python/pandas_group_data_by_time.html\n",
    "band_tweets['createdAt'] = pd.to_datetime(band_tweets['createdAt'], format ='%a %b %d %H:%M:%S +0000 %Y')\n",
    "band_tweets.index = band_tweets['createdAt']\n",
    "band_tweets.resample('H').count()['bandId'].plot(kind='area')"
   ]
  },
  {
   "cell_type": "code",
   "execution_count": 20,
   "metadata": {
    "collapsed": false
   },
   "outputs": [
    {
     "name": "stderr",
     "output_type": "stream",
     "text": [
      "/Users/eduard/anaconda/lib/python3.5/site-packages/ipykernel/__main__.py:4: SettingWithCopyWarning: \n",
      "A value is trying to be set on a copy of a slice from a DataFrame.\n",
      "Try using .loc[row_indexer,col_indexer] = value instead\n",
      "\n",
      "See the caveats in the documentation: http://pandas.pydata.org/pandas-docs/stable/indexing.html#indexing-view-versus-copy\n"
     ]
    },
    {
     "data": {
      "text/plain": [
       "<matplotlib.axes._subplots.AxesSubplot at 0x1172b6fd0>"
      ]
     },
     "execution_count": 20,
     "metadata": {},
     "output_type": "execute_result"
    },
    {
     "data": {
      "image/png": "[encoded data removed]",
      "text/plain": [
       "<matplotlib.figure.Figure at 0x1172adb00>"
      ]
     },
     "metadata": {},
     "output_type": "display_data"
    }
   ],
   "source": [
    "# timeline of tweets - single band\n",
    "bandCodedName = 'arcadefire'\n",
    "single_band_tweets = band_tweets[band_tweets['bandCodedName'] == bandCodedName]\n",
    "single_band_tweets['createdAt'] = pd.to_datetime(single_band_tweets['createdAt'], format ='%a %b %d %H:%M:%S +0000 %Y')\n",
    "single_band_tweets.index = single_band_tweets['createdAt']\n",
    "single_band_tweets.resample('H').count()['bandId'].plot(kind='area')"
   ]
  },
  {
   "cell_type": "markdown",
   "metadata": {},
   "source": [
    "## Hyper Score & Ranking\n",
    "\n",
    "Create the dataframe with one row per band and all the metrics associated"
   ]
  },
  {
   "cell_type": "code",
   "execution_count": 21,
   "metadata": {
    "collapsed": false
   },
   "outputs": [],
   "source": [
    "# group and sum band tweets by band\n",
    "band_hypes = band_tweets.groupby(['bandCodedName', 'bandName', 'bandId', 'headLevel']).sum()\n",
    "\n",
    "# insert a column with the number of tweets\n",
    "band_hypes['tweets'] = band_tweets.groupby(['bandCodedName', 'bandName', 'bandId', 'headLevel']).size()\n",
    "\n",
    "# reset the index created in the group by\n",
    "band_hypes = band_hypes.reset_index()\n",
    "\n",
    "# delete not needed columns\n",
    "del band_hypes['id']\n",
    "del band_hypes['userFriendsCount']\n",
    "del band_hypes['userFollowersCount']\n",
    "del band_hypes['userStatusesCount']\n",
    "del band_hypes['userFavsCount']\n",
    "del band_hypes['processed']\n",
    "\n",
    "# rename and re-order columns\n",
    "band_hypes = band_hypes.rename(columns={'favsCount':'favs', 'rtsCount':'retweets'})\n",
    "band_hypes = band_hypes[['bandId', 'bandCodedName', 'bandName', 'headLevel', 'tweets', 'favs', 'retweets']]"
   ]
  },
  {
   "cell_type": "markdown",
   "metadata": {},
   "source": [
    "### TF-IDF revisited\n",
    "- term => band\n",
    "- document => all tweets\n",
    "- corpus of documents => X\n",
    "\n",
    "#### TF: Term Frequency (normalized)\n",
    "Definition:\n",
    "- Measures how frequently a term occurs in a document\n",
    "- Measures how frequently a band is mentioned in a set of tweets\n",
    "\n",
    "Computation:\n",
    "- number of times term t appears in a document / total number of terms in the document\n",
    "- number of tweets talking about that band / total number of tweets\n",
    "\n",
    "#### IDF: Inverse Document Frequency\n",
    "Definition:\n",
    "- Measures how important a term\n",
    "- Measures how important a band is\n",
    "\n",
    "Computation:\n",
    "- log( total number of documents / number of documents with term t in it)\n",
    "- we don't have other documents so we need another way to measure how important a band is...\n",
    "  - we will consider the level of headliner of the band (according to the font size used in the festival lineup poster)\n",
    "  - 5 levels: 1 (top line-up) to 5 (bottom line-up)"
   ]
  },
  {
   "cell_type": "code",
   "execution_count": 22,
   "metadata": {
    "collapsed": false
   },
   "outputs": [],
   "source": [
    "# Compute BF-IHL (Band Frequency - Inverse Headline Level)\n",
    "bf_numerator = band_hypes['tweets']*(band_hypes['favs'] + band_hypes['retweets'])\n",
    "band_hypes['bf-ihl'] = (bf_numerator/bf_numerator.sum()) * np.log(band_hypes['headLevel'].astype(float) + 1)\n",
    "\n",
    "#\n",
    "# TODO: how do we normalize BF? total number of band_tweets? or distinct band_tweets?\n",
    "#"
   ]
  },
  {
   "cell_type": "code",
   "execution_count": 23,
   "metadata": {
    "collapsed": false
   },
   "outputs": [
    {
     "data": {
      "text/html": [
       "<div>\n",
       "<table border=\"1\" class=\"dataframe\">\n",
       "  <thead>\n",
       "    <tr style=\"text-align: right;\">\n",
       "      <th></th>\n",
       "      <th>bandId</th>\n",
       "      <th>bandCodedName</th>\n",
       "      <th>bandName</th>\n",
       "      <th>headLevel</th>\n",
       "      <th>tweets</th>\n",
       "      <th>favs</th>\n",
       "      <th>retweets</th>\n",
       "      <th>bf-ihl</th>\n",
       "    </tr>\n",
       "  </thead>\n",
       "  <tbody>\n",
       "    <tr>\n",
       "      <th>42</th>\n",
       "      <td>75</td>\n",
       "      <td>grandaddy</td>\n",
       "      <td>Grandaddy</td>\n",
       "      <td>3</td>\n",
       "      <td>6</td>\n",
       "      <td>1</td>\n",
       "      <td>236</td>\n",
       "      <td>0.134203</td>\n",
       "    </tr>\n",
       "    <tr>\n",
       "      <th>108</th>\n",
       "      <td>265</td>\n",
       "      <td>tie</td>\n",
       "      <td>Tiê</td>\n",
       "      <td>5</td>\n",
       "      <td>20</td>\n",
       "      <td>12</td>\n",
       "      <td>43</td>\n",
       "      <td>0.134178</td>\n",
       "    </tr>\n",
       "    <tr>\n",
       "      <th>0</th>\n",
       "      <td>1</td>\n",
       "      <td>!!!</td>\n",
       "      <td>!!!</td>\n",
       "      <td>3</td>\n",
       "      <td>29</td>\n",
       "      <td>31</td>\n",
       "      <td>18</td>\n",
       "      <td>0.134109</td>\n",
       "    </tr>\n",
       "    <tr>\n",
       "      <th>34</th>\n",
       "      <td>66</td>\n",
       "      <td>frankocean</td>\n",
       "      <td>Frank Ocean</td>\n",
       "      <td>1</td>\n",
       "      <td>32</td>\n",
       "      <td>30</td>\n",
       "      <td>43</td>\n",
       "      <td>0.110232</td>\n",
       "    </tr>\n",
       "    <tr>\n",
       "      <th>11</th>\n",
       "      <td>21</td>\n",
       "      <td>arcadefire</td>\n",
       "      <td>Arcade Fire</td>\n",
       "      <td>1</td>\n",
       "      <td>25</td>\n",
       "      <td>52</td>\n",
       "      <td>39</td>\n",
       "      <td>0.107353</td>\n",
       "    </tr>\n",
       "    <tr>\n",
       "      <th>52</th>\n",
       "      <td>100</td>\n",
       "      <td>keems</td>\n",
       "      <td>Keems</td>\n",
       "      <td>4</td>\n",
       "      <td>12</td>\n",
       "      <td>20</td>\n",
       "      <td>40</td>\n",
       "      <td>0.078889</td>\n",
       "    </tr>\n",
       "    <tr>\n",
       "      <th>102</th>\n",
       "      <td>43</td>\n",
       "      <td>thecrabapples</td>\n",
       "      <td>The Crab Apples</td>\n",
       "      <td>4</td>\n",
       "      <td>14</td>\n",
       "      <td>15</td>\n",
       "      <td>25</td>\n",
       "      <td>0.061358</td>\n",
       "    </tr>\n",
       "    <tr>\n",
       "      <th>84</th>\n",
       "      <td>167</td>\n",
       "      <td>pond</td>\n",
       "      <td>Pond</td>\n",
       "      <td>3</td>\n",
       "      <td>12</td>\n",
       "      <td>8</td>\n",
       "      <td>43</td>\n",
       "      <td>0.057758</td>\n",
       "    </tr>\n",
       "    <tr>\n",
       "      <th>14</th>\n",
       "      <td>28</td>\n",
       "      <td>belako</td>\n",
       "      <td>Belako</td>\n",
       "      <td>3</td>\n",
       "      <td>16</td>\n",
       "      <td>11</td>\n",
       "      <td>24</td>\n",
       "      <td>0.052851</td>\n",
       "    </tr>\n",
       "    <tr>\n",
       "      <th>88</th>\n",
       "      <td>179</td>\n",
       "      <td>runthejewels</td>\n",
       "      <td>Run The Jewels</td>\n",
       "      <td>2</td>\n",
       "      <td>10</td>\n",
       "      <td>13</td>\n",
       "      <td>42</td>\n",
       "      <td>0.041135</td>\n",
       "    </tr>\n",
       "  </tbody>\n",
       "</table>\n",
       "</div>"
      ],
      "text/plain": [
       "     bandId  bandCodedName         bandName headLevel  tweets  favs  retweets  \\\n",
       "42       75      grandaddy        Grandaddy         3       6     1       236   \n",
       "108     265            tie              Tiê         5      20    12        43   \n",
       "0         1            !!!              !!!         3      29    31        18   \n",
       "34       66     frankocean      Frank Ocean         1      32    30        43   \n",
       "11       21     arcadefire      Arcade Fire         1      25    52        39   \n",
       "52      100          keems            Keems         4      12    20        40   \n",
       "102      43  thecrabapples  The Crab Apples         4      14    15        25   \n",
       "84      167           pond             Pond         3      12     8        43   \n",
       "14       28         belako           Belako         3      16    11        24   \n",
       "88      179   runthejewels   Run The Jewels         2      10    13        42   \n",
       "\n",
       "       bf-ihl  \n",
       "42   0.134203  \n",
       "108  0.134178  \n",
       "0    0.134109  \n",
       "34   0.110232  \n",
       "11   0.107353  \n",
       "52   0.078889  \n",
       "102  0.061358  \n",
       "84   0.057758  \n",
       "14   0.052851  \n",
       "88   0.041135  "
      ]
     },
     "execution_count": 23,
     "metadata": {},
     "output_type": "execute_result"
    }
   ],
   "source": [
    "# band_hypes.sort_values(by='tweets', ascending=False).head(10)\n",
    "band_hypes.sort_values(by='bf-ihl', ascending=False).head(10)"
   ]
  },
  {
   "cell_type": "code",
   "execution_count": null,
   "metadata": {
    "collapsed": true
   },
   "outputs": [],
   "source": [
    "#\n",
    "#\n",
    "# Persist band_hypes to DB\n",
    "#\n",
    "#"
   ]
  }
 ],
 "metadata": {
  "anaconda-cloud": {},
  "kernelspec": {
   "display_name": "Python [conda root]",
   "language": "python",
   "name": "conda-root-py"
  },
  "language_info": {
   "codemirror_mode": {
    "name": "ipython",
    "version": 3
   },
   "file_extension": ".py",
   "mimetype": "text/x-python",
   "name": "python",
   "nbconvert_exporter": "python",
   "pygments_lexer": "ipython3",
   "version": "3.5.2"
  }
 },
 "nbformat": 4,
 "nbformat_minor": 1
}
