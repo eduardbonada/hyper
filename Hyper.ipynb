{
 "cells": [
  {
   "cell_type": "markdown",
   "metadata": {},
   "source": [
    "# Hyper\n",
    "\n",
    "A script to detect the most hyped (popular) bands of a festival"
   ]
  },
  {
   "cell_type": "code",
   "execution_count": 1,
   "metadata": {
    "collapsed": true
   },
   "outputs": [],
   "source": [
    "# https://www.dataquest.io/blog/python-pandas-databases/"
   ]
  },
  {
   "cell_type": "code",
   "execution_count": 44,
   "metadata": {
    "collapsed": true
   },
   "outputs": [],
   "source": [
    "import sqlite3\n",
    "import pandas as pd\n",
    "import string\n",
    "import unicodedata"
   ]
  },
  {
   "cell_type": "markdown",
   "metadata": {},
   "source": [
    "## Load Data"
   ]
  },
  {
   "cell_type": "code",
   "execution_count": 45,
   "metadata": {
    "collapsed": false
   },
   "outputs": [],
   "source": [
    "# Setup sqlite\n",
    "sqlite_file = 'hyper.db'\n",
    "\n",
    "# Connect to the database sqlite file\n",
    "connection = sqlite3.connect(sqlite_file)\n",
    "db = connection.cursor()"
   ]
  },
  {
   "cell_type": "code",
   "execution_count": 64,
   "metadata": {
    "collapsed": false
   },
   "outputs": [
    {
     "name": "stdout",
     "output_type": "stream",
     "text": [
      "268 bands read\n"
     ]
    }
   ],
   "source": [
    "# get list of bands from db\n",
    "bands = pd.read_sql_query(\"SELECT * FROM Bands;\", connection)\n",
    "print(\"{} bands read\".format(len(bands)))\n",
    "#bands.head()"
   ]
  },
  {
   "cell_type": "code",
   "execution_count": 65,
   "metadata": {
    "collapsed": false
   },
   "outputs": [
    {
     "name": "stdout",
     "output_type": "stream",
     "text": [
      "1094 tweets in db\n"
     ]
    }
   ],
   "source": [
    "# read ALL tweets from db\n",
    "all_tweets = pd.read_sql_query(\"SELECT * FROM TweetsRaw\", connection)\n",
    "print(\"{} tweets in db\".format(len(all_tweets)))"
   ]
  },
  {
   "cell_type": "code",
   "execution_count": 66,
   "metadata": {
    "collapsed": false
   },
   "outputs": [
    {
     "name": "stdout",
     "output_type": "stream",
     "text": [
      "0 tweets in db\n"
     ]
    }
   ],
   "source": [
    "# read ONLY tweets that have to be processed\n",
    "tweets_to_process = pd.read_sql_query(\"SELECT * FROM TweetsRaw WHERE processed IS NULL\", connection)\n",
    "print(\"{} tweets in db\".format(len(tweets_to_process)))"
   ]
  },
  {
   "cell_type": "code",
   "execution_count": 57,
   "metadata": {
    "collapsed": false
   },
   "outputs": [],
   "source": [
    "# read ONLY tweets that have to be processed\n",
    "#tweets_to_process = pd.read_sql_query(\"SELECT tr.* FROM TweetsRaw AS tr \\\n",
    "#                                       LEFT JOIN BandTweets AS bt ON tr.id == bt.tweetRawId \\\n",
    "#                                       WHERE bt.tweetRawId IS NULL\", connection)\n",
    "#print(\"{} tweets to process\".format(len(tweets_to_process)))"
   ]
  },
  {
   "cell_type": "code",
   "execution_count": 58,
   "metadata": {
    "collapsed": false
   },
   "outputs": [],
   "source": [
    "#tweets_to_process = tweets_to_process.head(50)\n",
    "#print(\"{} tweets to process (!!!REMOVE!!!)\".format(len(tweets_to_process)))"
   ]
  },
  {
   "cell_type": "markdown",
   "metadata": {},
   "source": [
    "## Partition per band\n",
    "\n",
    "Look for tweets talking about bands and re-create data structure in a band-centered way"
   ]
  },
  {
   "cell_type": "code",
   "execution_count": 51,
   "metadata": {
    "collapsed": false
   },
   "outputs": [],
   "source": [
    "def extract_bands(tweet):\n",
    "    \"\"\"\n",
    "    Function that extracts the bands from a tweet text\n",
    "    Returns a list of bands\n",
    "    \"\"\"\n",
    "    \n",
    "    # init list to return\n",
    "    bands_in_tweet = []\n",
    "    \n",
    "    # loop all bands and check of any of the written forms is present in the tweet text\n",
    "    for i, b in bands.iterrows():\n",
    "                \n",
    "        # set different band names writing possibilities\n",
    "        bandname = b['name']\n",
    "        bandname_lowercase = bandname.lower()\n",
    "        bandname_lowercase_no_spaces = ''.join(bandname_lowercase.split())\n",
    "        bandname_lowercase_no_accents = ''.join((c for c in unicodedata.normalize('NFD', bandname_lowercase) if unicodedata.category(c) != 'Mn'))\n",
    "        bandname_lowercase_no_spaces_no_accents = ''.join((c for c in unicodedata.normalize('NFD', bandname_lowercase_no_spaces) if unicodedata.category(c) != 'Mn'))\n",
    "\n",
    "        # check if any of the forms is in the tweet text\n",
    "        if any(s in tweet['tweetText'].lower() for s in [bandname_lowercase, bandname_lowercase_no_spaces, bandname_lowercase_no_accents, bandname_lowercase_no_spaces_no_accents, b['twitterName']]):\n",
    "            bands_in_tweet.append({\"id\": b['id'], \"codedName\": b['codedName']})\n",
    "\n",
    "    return bands_in_tweet"
   ]
  },
  {
   "cell_type": "code",
   "execution_count": 52,
   "metadata": {
    "collapsed": false
   },
   "outputs": [],
   "source": [
    "def band_partition(tweet):\n",
    "    \"\"\"\n",
    "    Function that reads a single tweet info and adds into a list the tweet information partitioned by bands.\n",
    "    I.e. If a tweet mentions 2 bands, it adds a list of 2 dicts with the tweet info\n",
    "    \"\"\"\n",
    "    \n",
    "    # loop all bands and add an entry to the list\n",
    "    for b in tweet['bands']:\n",
    "        new_band_tweets_list.append({\\\n",
    "                                 \"tweetRawId\" : tweet['id'],\\\n",
    "                                 \"createdAt\" : tweet['createdAt'],\\\n",
    "                                 \"storedAt\" : tweet['storedAt'],\\\n",
    "                                 \"bandId\" : b['id'],\\\n",
    "                                 \"bandCodedName\" : b['codedName'],\\\n",
    "                                 \"favsCount\" : tweet['favsCount'],\\\n",
    "                                 \"rtsCount\" : tweet['rtsCount'],\\\n",
    "                                 \"language\" : tweet['language'],\\\n",
    "                                 \"userId\" : tweet['userId'],\\\n",
    "                                 \"userFriendsCount\" : tweet['userFriendsCount'],\\\n",
    "                                 \"userFollowersCount\" : tweet['userFollowersCount'],\\\n",
    "                                 \"userStatusesCount\" : tweet['userStatusesCount'],\\\n",
    "                                 \"userFavsCount\" : tweet['userFavsCount'],\\\n",
    "                                 \"userLocation\" : tweet['userLocation']\\\n",
    "                                })\n",
    "    \n",
    "    # Mark TweetsRaw as processed\n",
    "    db.execute(\"UPDATE TweetsRaw SET processed = 1 WHERE id == {}\".format(tweet.id))\n",
    "    connection.commit()"
   ]
  },
  {
   "cell_type": "code",
   "execution_count": 73,
   "metadata": {
    "collapsed": false
   },
   "outputs": [
    {
     "name": "stdout",
     "output_type": "stream",
     "text": [
      "No new tweets to process\n"
     ]
    }
   ],
   "source": [
    "if(tweets_to_process.shape[0] > 0):\n",
    "\n",
    "    # extract bands for each tweet\n",
    "    tweets_to_process['bands'] = tweets_to_process.apply(extract_bands, axis=1)\n",
    "\n",
    "    # construct the list of tweets per band\n",
    "    new_band_tweets_list = []\n",
    "    tweets_to_process.apply(band_partition, axis=1);\n",
    "\n",
    "    # create a dataframe from the previous list\n",
    "    new_band_tweets = pd.DataFrame.from_dict(new_band_tweets_list)\n",
    "    print(\"{} band-tweets\".format(new_band_tweets.shape[0]))\n",
    "else:\n",
    "    new_band_tweets = pd.DataFrame([])\n",
    "    print(\"No new tweets to process\")"
   ]
  },
  {
   "cell_type": "code",
   "execution_count": 74,
   "metadata": {
    "collapsed": false
   },
   "outputs": [
    {
     "name": "stdout",
     "output_type": "stream",
     "text": [
      "No new band tweets to persist\n"
     ]
    }
   ],
   "source": [
    "# Persist extracted tweets in DB (BandTweets table)\n",
    "if(new_band_tweets.shape[0] > 0):\n",
    "    new_band_tweets[['tweetRawId', 'bandId']].to_sql('BandTweets', connection, if_exists='append')\n",
    "    print(\"{} new band tweets persisted\".format(new_band_tweets.shape[0]))\n",
    "else:\n",
    "    print(\"No new band tweets to persist\")"
   ]
  },
  {
   "cell_type": "markdown",
   "metadata": {},
   "source": [
    "## Explore Band-Tweet Data"
   ]
  },
  {
   "cell_type": "code",
   "execution_count": 61,
   "metadata": {
    "collapsed": false
   },
   "outputs": [
    {
     "name": "stdout",
     "output_type": "stream",
     "text": [
      "271 band tweets in db\n"
     ]
    }
   ],
   "source": [
    "# Construct a dataframe joining data from TweetsRaw and BandTweets\n",
    "band_tweets = pd.read_sql_query(\"SELECT bt.bandId, b.codedName AS bandCodedName, tr.* FROM BandTweets AS bt\\\n",
    "                                 LEFT JOIN TweetsRaw AS tr ON bt.tweetRawId == tr.id \\\n",
    "                                 LEFT JOIN Bands AS b ON bt.bandId == b.id\", connection)\n",
    "print(\"{} band tweets in db\".format(band_tweets.shape[0]))"
   ]
  },
  {
   "cell_type": "code",
   "execution_count": 62,
   "metadata": {
    "collapsed": false,
    "scrolled": false
   },
   "outputs": [
    {
     "name": "stdout",
     "output_type": "stream",
     "text": [
      "bandCodedName\n",
      "arcadefire            16\n",
      "belako                15\n",
      "frankocean            15\n",
      "tie                   13\n",
      "thecrabapples         12\n",
      "keems                 11\n",
      "glassanimals          11\n",
      "!!!                   10\n",
      "pond                   9\n",
      "pavvla                 8\n",
      "macdemarco             7\n",
      "slayer                 7\n",
      "solange                7\n",
      "barbott                6\n",
      "museless               6\n",
      "gas                    5\n",
      "grandaddy              5\n",
      "thewavepictures        5\n",
      "clubz                  4\n",
      "fufanu                 3\n",
      "mishima                3\n",
      "polseguera             3\n",
      "kinggizzard            3\n",
      "theharlock             3\n",
      "shellac                3\n",
      "whitney                2\n",
      "tourista               2\n",
      "formation              2\n",
      "donallop               2\n",
      "demonaco               2\n",
      "                      ..\n",
      "diealright             1\n",
      "djcoco                 1\n",
      "7notas7colores         1\n",
      "aphextwin              1\n",
      "astronautproject       1\n",
      "rbp                    1\n",
      "flyinglotus            1\n",
      "front242               1\n",
      "saintetienne           1\n",
      "patients               1\n",
      "papatopo               1\n",
      "operators              1\n",
      "skepta                 1\n",
      "metronomy              1\n",
      "martadelmont           1\n",
      "maquinatotal           1\n",
      "skinnypuppy            1\n",
      "kokoshca               1\n",
      "vanmorrison            1\n",
      "sleafordmods           1\n",
      "juliajacklin           1\n",
      "japandroids            1\n",
      "innercut               1\n",
      "hamiltonleithauser     1\n",
      "sorrykate              1\n",
      "gracejones             1\n",
      "swans                  1\n",
      "priests                1\n",
      "theafghanwhigs         1\n",
      "swetshopboys           1\n",
      "dtype: int64\n"
     ]
    }
   ],
   "source": [
    "# Count tweets per band\n",
    "print(band_tweets.groupby('bandCodedName').size().sort_values(ascending=False))"
   ]
  },
  {
   "cell_type": "code",
   "execution_count": 63,
   "metadata": {
    "collapsed": false
   },
   "outputs": [
    {
     "name": "stdout",
     "output_type": "stream",
     "text": [
      "Tweets about arcadefire:  16\n",
      "Total Favs of arcadefire: 44\n",
      "Total RTs of arcadefire:  31\n"
     ]
    }
   ],
   "source": [
    "# Count measures of a given band\n",
    "bandCodedName = 'arcadefire'\n",
    "print(\"Tweets about {}:  {}\".format(bandCodedName,band_tweets.groupby('bandCodedName').size()[bandCodedName]))\n",
    "print(\"Total Favs of {}: {}\".format(bandCodedName,band_tweets.groupby('bandCodedName').sum()['favsCount'][bandCodedName]))\n",
    "print(\"Total RTs of {}:  {}\".format(bandCodedName,band_tweets.groupby('bandCodedName').sum()['rtsCount'][bandCodedName]))"
   ]
  },
  {
   "cell_type": "markdown",
   "metadata": {},
   "source": [
    "## Explore Band-Tweet Timelines"
   ]
  },
  {
   "cell_type": "code",
   "execution_count": 100,
   "metadata": {
    "collapsed": true
   },
   "outputs": [],
   "source": [
    "%matplotlib inline\n",
    "import numpy as np\n",
    "import matplotlib as mpl\n",
    "import matplotlib.pyplot as plt\n",
    "import seaborn as sns"
   ]
  },
  {
   "cell_type": "code",
   "execution_count": 101,
   "metadata": {
    "collapsed": false
   },
   "outputs": [
    {
     "data": {
      "text/plain": [
       "<matplotlib.axes._subplots.AxesSubplot at 0x117585b00>"
      ]
     },
     "execution_count": 101,
     "metadata": {},
     "output_type": "execute_result"
    },
    {
     "data": {
      "image/png": "[encoded data removed]",
      "text/plain": [
       "<matplotlib.figure.Figure at 0x113fb0d68>"
      ]
     },
     "metadata": {},
     "output_type": "display_data"
    }
   ],
   "source": [
    "# timeline of tweets - all bands\n",
    "# https://chrisalbon.com/python/pandas_group_data_by_time.html\n",
    "band_tweets['createdAt'] = pd.to_datetime(band_tweets['createdAt'], format ='%a %b %d %H:%M:%S +0000 %Y')\n",
    "band_tweets.index = band_tweets['createdAt']\n",
    "band_tweets.resample('H').count()['bandId'].plot(kind='area')"
   ]
  },
  {
   "cell_type": "code",
   "execution_count": 102,
   "metadata": {
    "collapsed": false
   },
   "outputs": [
    {
     "name": "stderr",
     "output_type": "stream",
     "text": [
      "/Users/eduard/anaconda/lib/python3.5/site-packages/ipykernel/__main__.py:4: SettingWithCopyWarning: \n",
      "A value is trying to be set on a copy of a slice from a DataFrame.\n",
      "Try using .loc[row_indexer,col_indexer] = value instead\n",
      "\n",
      "See the caveats in the documentation: http://pandas.pydata.org/pandas-docs/stable/indexing.html#indexing-view-versus-copy\n"
     ]
    },
    {
     "data": {
      "text/plain": [
       "<matplotlib.axes._subplots.AxesSubplot at 0x1144a6198>"
      ]
     },
     "execution_count": 102,
     "metadata": {},
     "output_type": "execute_result"
    },
    {
     "data": {
      "image/png": "[encoded data removed]",
      "text/plain": [
       "<matplotlib.figure.Figure at 0x11988e048>"
      ]
     },
     "metadata": {},
     "output_type": "display_data"
    }
   ],
   "source": [
    "# timeline of tweets - single band\n",
    "bandCodedName = 'belako'\n",
    "single_band_tweets = band_tweets[band_tweets['bandCodedName'] == bandCodedName]\n",
    "single_band_tweets['createdAt'] = pd.to_datetime(single_band_tweets['createdAt'], format ='%a %b %d %H:%M:%S +0000 %Y')\n",
    "single_band_tweets.index = single_band_tweets['createdAt']\n",
    "single_band_tweets.resample('H').count()['bandId'].plot(kind='area')"
   ]
  },
  {
   "cell_type": "markdown",
   "metadata": {},
   "source": [
    "## Hyper Score & Ranking"
   ]
  },
  {
   "cell_type": "code",
   "execution_count": null,
   "metadata": {
    "collapsed": true
   },
   "outputs": [],
   "source": [
    "# Create the dataframe with one row per band and all the metrics associated\n",
    "\n",
    "# sort the dataframe by X"
   ]
  }
 ],
 "metadata": {
  "anaconda-cloud": {},
  "kernelspec": {
   "display_name": "Python [conda root]",
   "language": "python",
   "name": "conda-root-py"
  },
  "language_info": {
   "codemirror_mode": {
    "name": "ipython",
    "version": 3
   },
   "file_extension": ".py",
   "mimetype": "text/x-python",
   "name": "python",
   "nbconvert_exporter": "python",
   "pygments_lexer": "ipython3",
   "version": "3.5.2"
  }
 },
 "nbformat": 4,
 "nbformat_minor": 1
}
