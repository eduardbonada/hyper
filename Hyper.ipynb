{
 "cells": [
  {
   "cell_type": "markdown",
   "metadata": {},
   "source": [
    "# Hyper\n",
    "\n",
    "A script to detect the most hyped (popular) bands of a festival"
   ]
  },
  {
   "cell_type": "code",
   "execution_count": 1,
   "metadata": {
    "collapsed": true
   },
   "outputs": [],
   "source": [
    "# https://www.dataquest.io/blog/python-pandas-databases/"
   ]
  },
  {
   "cell_type": "code",
   "execution_count": 22,
   "metadata": {
    "collapsed": true
   },
   "outputs": [],
   "source": [
    "import sqlite3\n",
    "import pandas as pd\n",
    "import string\n",
    "import unicodedata"
   ]
  },
  {
   "cell_type": "markdown",
   "metadata": {},
   "source": [
    "## Load Data"
   ]
  },
  {
   "cell_type": "code",
   "execution_count": 187,
   "metadata": {
    "collapsed": true
   },
   "outputs": [],
   "source": [
    "# Setup sqlite\n",
    "sqlite_file = 'hyper.db'\n",
    "\n",
    "# Connect to the database sqlite file\n",
    "connection = sqlite3.connect(sqlite_file)\n",
    "db = connection.cursor()"
   ]
  },
  {
   "cell_type": "code",
   "execution_count": 206,
   "metadata": {
    "collapsed": false
   },
   "outputs": [
    {
     "data": {
      "text/html": [
       "<div>\n",
       "<table border=\"1\" class=\"dataframe\">\n",
       "  <thead>\n",
       "    <tr style=\"text-align: right;\">\n",
       "      <th></th>\n",
       "      <th>id</th>\n",
       "      <th>name</th>\n",
       "      <th>codedName</th>\n",
       "      <th>twitterName</th>\n",
       "    </tr>\n",
       "  </thead>\n",
       "  <tbody>\n",
       "    <tr>\n",
       "      <th>0</th>\n",
       "      <td>1</td>\n",
       "      <td>Arcade Fire</td>\n",
       "      <td>arcadefire</td>\n",
       "      <td>@arcadefire</td>\n",
       "    </tr>\n",
       "    <tr>\n",
       "      <th>1</th>\n",
       "      <td>2</td>\n",
       "      <td>Bon Iver</td>\n",
       "      <td>boniver</td>\n",
       "      <td>@boniver</td>\n",
       "    </tr>\n",
       "    <tr>\n",
       "      <th>2</th>\n",
       "      <td>3</td>\n",
       "      <td>Mishima</td>\n",
       "      <td>mishima</td>\n",
       "      <td>@mishima</td>\n",
       "    </tr>\n",
       "    <tr>\n",
       "      <th>3</th>\n",
       "      <td>4</td>\n",
       "      <td>!!!</td>\n",
       "      <td>!!!</td>\n",
       "      <td>@chkchkchk</td>\n",
       "    </tr>\n",
       "    <tr>\n",
       "      <th>4</th>\n",
       "      <td>5</td>\n",
       "      <td>Anímic</td>\n",
       "      <td>animic</td>\n",
       "      <td>@animic</td>\n",
       "    </tr>\n",
       "  </tbody>\n",
       "</table>\n",
       "</div>"
      ],
      "text/plain": [
       "   id         name   codedName  twitterName\n",
       "0   1  Arcade Fire  arcadefire  @arcadefire\n",
       "1   2     Bon Iver     boniver     @boniver\n",
       "2   3      Mishima     mishima     @mishima\n",
       "3   4          !!!         !!!   @chkchkchk\n",
       "4   5       Anímic      animic      @animic"
      ]
     },
     "execution_count": 206,
     "metadata": {},
     "output_type": "execute_result"
    }
   ],
   "source": [
    "# get list of bands from db\n",
    "bands = pd.read_sql_query(\"SELECT * FROM Bands;\", connection)\n",
    "bands.head()"
   ]
  },
  {
   "cell_type": "code",
   "execution_count": 207,
   "metadata": {
    "collapsed": false
   },
   "outputs": [
    {
     "data": {
      "text/html": [
       "<div>\n",
       "<table border=\"1\" class=\"dataframe\">\n",
       "  <thead>\n",
       "    <tr style=\"text-align: right;\">\n",
       "      <th></th>\n",
       "      <th>id</th>\n",
       "      <th>tweetId</th>\n",
       "      <th>createdAt</th>\n",
       "      <th>storedAt</th>\n",
       "      <th>tweetText</th>\n",
       "      <th>favsCount</th>\n",
       "      <th>rtsCount</th>\n",
       "      <th>language</th>\n",
       "      <th>userId</th>\n",
       "      <th>userFriendsCount</th>\n",
       "      <th>userFollowersCount</th>\n",
       "      <th>userStatusesCount</th>\n",
       "      <th>userFavsCount</th>\n",
       "      <th>userLocation</th>\n",
       "    </tr>\n",
       "  </thead>\n",
       "  <tbody>\n",
       "    <tr>\n",
       "      <th>0</th>\n",
       "      <td>1</td>\n",
       "      <td>0</td>\n",
       "      <td>Fri Apr 28 18:36:13 +0200 2017</td>\n",
       "      <td>Mon May 01 19:01:13 +0200 2017</td>\n",
       "      <td>quam nihil molestiae consequatur 6 t   laboris...</td>\n",
       "      <td>92</td>\n",
       "      <td>47</td>\n",
       "      <td>la</td>\n",
       "      <td>287</td>\n",
       "      <td>2</td>\n",
       "      <td>482</td>\n",
       "      <td>2625</td>\n",
       "      <td>3550</td>\n",
       "      <td>Barcelona</td>\n",
       "    </tr>\n",
       "    <tr>\n",
       "      <th>1</th>\n",
       "      <td>2</td>\n",
       "      <td>0</td>\n",
       "      <td>Wed Apr 26 10:39:13 +0200 2017</td>\n",
       "      <td>Mon May 01 19:01:13 +0200 2017</td>\n",
       "      <td>quam nihil molestiae consequatur h f b labore ...</td>\n",
       "      <td>58</td>\n",
       "      <td>4</td>\n",
       "      <td>la</td>\n",
       "      <td>881</td>\n",
       "      <td>5</td>\n",
       "      <td>880</td>\n",
       "      <td>3293</td>\n",
       "      <td>5663</td>\n",
       "      <td>Barcelona</td>\n",
       "    </tr>\n",
       "    <tr>\n",
       "      <th>2</th>\n",
       "      <td>3</td>\n",
       "      <td>0</td>\n",
       "      <td>Mon Apr 24 20:13:13 +0200 2017</td>\n",
       "      <td>Mon May 01 19:01:13 +0200 2017</td>\n",
       "      <td>ea commodi consequatur? V &gt; h quaerat voluptat...</td>\n",
       "      <td>12</td>\n",
       "      <td>80</td>\n",
       "      <td>la</td>\n",
       "      <td>519</td>\n",
       "      <td>10</td>\n",
       "      <td>184</td>\n",
       "      <td>3071</td>\n",
       "      <td>2103</td>\n",
       "      <td>Barcelona</td>\n",
       "    </tr>\n",
       "    <tr>\n",
       "      <th>3</th>\n",
       "      <td>4</td>\n",
       "      <td>0</td>\n",
       "      <td>Thu Apr 27 21:01:13 +0200 2017</td>\n",
       "      <td>Mon May 01 19:01:13 +0200 2017</td>\n",
       "      <td>quis nostrum exercitationem ullam corporis , &gt;...</td>\n",
       "      <td>74</td>\n",
       "      <td>45</td>\n",
       "      <td>la</td>\n",
       "      <td>606</td>\n",
       "      <td>3</td>\n",
       "      <td>226</td>\n",
       "      <td>1792</td>\n",
       "      <td>4859</td>\n",
       "      <td>Barcelona</td>\n",
       "    </tr>\n",
       "    <tr>\n",
       "      <th>4</th>\n",
       "      <td>5</td>\n",
       "      <td>0</td>\n",
       "      <td>Tue Apr 25 02:02:13 +0200 2017</td>\n",
       "      <td>Mon May 01 19:01:13 +0200 2017</td>\n",
       "      <td>Excepteur sint occaecat cupidatat ) # r ipsum ...</td>\n",
       "      <td>74</td>\n",
       "      <td>100</td>\n",
       "      <td>la</td>\n",
       "      <td>139</td>\n",
       "      <td>1</td>\n",
       "      <td>184</td>\n",
       "      <td>6408</td>\n",
       "      <td>875</td>\n",
       "      <td>Barcelona</td>\n",
       "    </tr>\n",
       "  </tbody>\n",
       "</table>\n",
       "</div>"
      ],
      "text/plain": [
       "   id tweetId                       createdAt                        storedAt  \\\n",
       "0   1       0  Fri Apr 28 18:36:13 +0200 2017  Mon May 01 19:01:13 +0200 2017   \n",
       "1   2       0  Wed Apr 26 10:39:13 +0200 2017  Mon May 01 19:01:13 +0200 2017   \n",
       "2   3       0  Mon Apr 24 20:13:13 +0200 2017  Mon May 01 19:01:13 +0200 2017   \n",
       "3   4       0  Thu Apr 27 21:01:13 +0200 2017  Mon May 01 19:01:13 +0200 2017   \n",
       "4   5       0  Tue Apr 25 02:02:13 +0200 2017  Mon May 01 19:01:13 +0200 2017   \n",
       "\n",
       "                                           tweetText  favsCount  rtsCount  \\\n",
       "0  quam nihil molestiae consequatur 6 t   laboris...         92        47   \n",
       "1  quam nihil molestiae consequatur h f b labore ...         58         4   \n",
       "2  ea commodi consequatur? V > h quaerat voluptat...         12        80   \n",
       "3  quis nostrum exercitationem ullam corporis , >...         74        45   \n",
       "4  Excepteur sint occaecat cupidatat ) # r ipsum ...         74       100   \n",
       "\n",
       "  language userId  userFriendsCount  userFollowersCount  userStatusesCount  \\\n",
       "0       la    287                 2                 482               2625   \n",
       "1       la    881                 5                 880               3293   \n",
       "2       la    519                10                 184               3071   \n",
       "3       la    606                 3                 226               1792   \n",
       "4       la    139                 1                 184               6408   \n",
       "\n",
       "   userFavsCount userLocation  \n",
       "0           3550    Barcelona  \n",
       "1           5663    Barcelona  \n",
       "2           2103    Barcelona  \n",
       "3           4859    Barcelona  \n",
       "4            875    Barcelona  "
      ]
     },
     "execution_count": 207,
     "metadata": {},
     "output_type": "execute_result"
    }
   ],
   "source": [
    "# read tweets from db\n",
    "tweets = pd.read_sql_query(\"SELECT * FROM TweetsRaw limit 100;\", connection)\n",
    "tweets.head()\n",
    "#tweets.describe()"
   ]
  },
  {
   "cell_type": "markdown",
   "metadata": {},
   "source": [
    "## Partition per band\n",
    "\n",
    "Look for tweets talking about bands and re-create data structure in a band-centered way"
   ]
  },
  {
   "cell_type": "code",
   "execution_count": 191,
   "metadata": {
    "collapsed": false
   },
   "outputs": [],
   "source": [
    "def extract_bands(tweet):\n",
    "    \"\"\"\n",
    "    Function that extracts the bands from a tweet text\n",
    "    Returns a list of bands\n",
    "    \"\"\"\n",
    "    \n",
    "    # init list to return\n",
    "    bands_in_tweet = []\n",
    "    \n",
    "    # loop all bands and check of any of the written forms is present in the tweet text\n",
    "    for i, b in bands.iterrows():\n",
    "                \n",
    "        # set different band names writing possibilities\n",
    "        bandname = b['name']\n",
    "        bandname_lowercase = bandname.lower()\n",
    "        bandname_lowercase_no_spaces = ''.join(bandname_lowercase.split())\n",
    "        bandname_lowercase_no_accents = ''.join((c for c in unicodedata.normalize('NFD', bandname_lowercase) if unicodedata.category(c) != 'Mn'))\n",
    "        bandname_lowercase_no_spaces_no_accents = ''.join((c for c in unicodedata.normalize('NFD', bandname_lowercase_no_spaces) if unicodedata.category(c) != 'Mn'))\n",
    "\n",
    "        # check if any of the forms is in the tweet text\n",
    "        if any(s in tweet['tweetText'].lower() for s in [bandname_lowercase, bandname_lowercase_no_spaces, bandname_lowercase_no_accents, bandname_lowercase_no_spaces_no_accents, b['twitterName']]):\n",
    "            bands_in_tweet.append({\"id\": b['id'], \"codedName\": b['codedName']})\n",
    "\n",
    "    return bands_in_tweet"
   ]
  },
  {
   "cell_type": "code",
   "execution_count": 208,
   "metadata": {
    "collapsed": false
   },
   "outputs": [],
   "source": [
    "# extract bands for each tweet\n",
    "tweets['bands'] = tweets.apply(extract_bands, axis=1)"
   ]
  },
  {
   "cell_type": "code",
   "execution_count": 193,
   "metadata": {
    "collapsed": false
   },
   "outputs": [],
   "source": [
    "def band_partition(tweet):\n",
    "    \"\"\"\n",
    "    Function that reads a single tweet info and adds into a list the tweet information partitioned by bands.\n",
    "    I.e. If a tweet mentions 2 bands, it adds a list of 2 dicts with the tweet info\n",
    "    \"\"\"\n",
    "\n",
    "    # loop all bands and add an entry to the list\n",
    "    for b in tweet['bands']:\n",
    "        band_tweets_list.append({\\\n",
    "                                 \"tweetRawId\" : tweet['id'],\\\n",
    "                                 \"createdAt\" : tweet['createdAt'],\\\n",
    "                                 \"storedAt\" : tweet['storedAt'],\\\n",
    "                                 \"bandId\" : b['id'],\\\n",
    "                                 \"bandCodedName\" : b['codedName'],\\\n",
    "                                 \"favsCount\" : tweet['favsCount'],\\\n",
    "                                 \"rtsCount\" : tweet['rtsCount'],\\\n",
    "                                 \"language\" : tweet['language'],\\\n",
    "                                 \"userId\" : tweet['userId'],\\\n",
    "                                 \"userFriendsCount\" : tweet['userFriendsCount'],\\\n",
    "                                 \"userFollowersCount\" : tweet['userFollowersCount'],\\\n",
    "                                 \"userStatusesCount\" : tweet['userStatusesCount'],\\\n",
    "                                 \"userFavsCount\" : tweet['userFavsCount'],\\\n",
    "                                 \"userLocation\" : tweet['userLocation']\\\n",
    "                                })"
   ]
  },
  {
   "cell_type": "code",
   "execution_count": 209,
   "metadata": {
    "collapsed": false
   },
   "outputs": [
    {
     "data": {
      "text/html": [
       "<div>\n",
       "<table border=\"1\" class=\"dataframe\">\n",
       "  <thead>\n",
       "    <tr style=\"text-align: right;\">\n",
       "      <th></th>\n",
       "      <th>bandCodedName</th>\n",
       "      <th>bandId</th>\n",
       "      <th>createdAt</th>\n",
       "      <th>favsCount</th>\n",
       "      <th>language</th>\n",
       "      <th>rtsCount</th>\n",
       "      <th>storedAt</th>\n",
       "      <th>tweetRawId</th>\n",
       "      <th>userFavsCount</th>\n",
       "      <th>userFollowersCount</th>\n",
       "      <th>userFriendsCount</th>\n",
       "      <th>userId</th>\n",
       "      <th>userLocation</th>\n",
       "      <th>userStatusesCount</th>\n",
       "    </tr>\n",
       "  </thead>\n",
       "  <tbody>\n",
       "    <tr>\n",
       "      <th>0</th>\n",
       "      <td>mishima</td>\n",
       "      <td>3</td>\n",
       "      <td>Fri Apr 28 18:36:13 +0200 2017</td>\n",
       "      <td>92</td>\n",
       "      <td>la</td>\n",
       "      <td>47</td>\n",
       "      <td>Mon May 01 19:01:13 +0200 2017</td>\n",
       "      <td>1</td>\n",
       "      <td>3550</td>\n",
       "      <td>482</td>\n",
       "      <td>2</td>\n",
       "      <td>287</td>\n",
       "      <td>Barcelona</td>\n",
       "      <td>2625</td>\n",
       "    </tr>\n",
       "    <tr>\n",
       "      <th>1</th>\n",
       "      <td>animic</td>\n",
       "      <td>5</td>\n",
       "      <td>Fri Apr 28 18:36:13 +0200 2017</td>\n",
       "      <td>92</td>\n",
       "      <td>la</td>\n",
       "      <td>47</td>\n",
       "      <td>Mon May 01 19:01:13 +0200 2017</td>\n",
       "      <td>1</td>\n",
       "      <td>3550</td>\n",
       "      <td>482</td>\n",
       "      <td>2</td>\n",
       "      <td>287</td>\n",
       "      <td>Barcelona</td>\n",
       "      <td>2625</td>\n",
       "    </tr>\n",
       "    <tr>\n",
       "      <th>2</th>\n",
       "      <td>boniver</td>\n",
       "      <td>2</td>\n",
       "      <td>Wed Apr 26 10:39:13 +0200 2017</td>\n",
       "      <td>58</td>\n",
       "      <td>la</td>\n",
       "      <td>4</td>\n",
       "      <td>Mon May 01 19:01:13 +0200 2017</td>\n",
       "      <td>2</td>\n",
       "      <td>5663</td>\n",
       "      <td>880</td>\n",
       "      <td>5</td>\n",
       "      <td>881</td>\n",
       "      <td>Barcelona</td>\n",
       "      <td>3293</td>\n",
       "    </tr>\n",
       "    <tr>\n",
       "      <th>3</th>\n",
       "      <td>mishima</td>\n",
       "      <td>3</td>\n",
       "      <td>Wed Apr 26 10:39:13 +0200 2017</td>\n",
       "      <td>58</td>\n",
       "      <td>la</td>\n",
       "      <td>4</td>\n",
       "      <td>Mon May 01 19:01:13 +0200 2017</td>\n",
       "      <td>2</td>\n",
       "      <td>5663</td>\n",
       "      <td>880</td>\n",
       "      <td>5</td>\n",
       "      <td>881</td>\n",
       "      <td>Barcelona</td>\n",
       "      <td>3293</td>\n",
       "    </tr>\n",
       "    <tr>\n",
       "      <th>4</th>\n",
       "      <td>mishima</td>\n",
       "      <td>3</td>\n",
       "      <td>Mon Apr 24 20:13:13 +0200 2017</td>\n",
       "      <td>12</td>\n",
       "      <td>la</td>\n",
       "      <td>80</td>\n",
       "      <td>Mon May 01 19:01:13 +0200 2017</td>\n",
       "      <td>3</td>\n",
       "      <td>2103</td>\n",
       "      <td>184</td>\n",
       "      <td>10</td>\n",
       "      <td>519</td>\n",
       "      <td>Barcelona</td>\n",
       "      <td>3071</td>\n",
       "    </tr>\n",
       "  </tbody>\n",
       "</table>\n",
       "</div>"
      ],
      "text/plain": [
       "  bandCodedName  bandId                       createdAt  favsCount language  \\\n",
       "0       mishima       3  Fri Apr 28 18:36:13 +0200 2017         92       la   \n",
       "1        animic       5  Fri Apr 28 18:36:13 +0200 2017         92       la   \n",
       "2       boniver       2  Wed Apr 26 10:39:13 +0200 2017         58       la   \n",
       "3       mishima       3  Wed Apr 26 10:39:13 +0200 2017         58       la   \n",
       "4       mishima       3  Mon Apr 24 20:13:13 +0200 2017         12       la   \n",
       "\n",
       "   rtsCount                        storedAt  tweetRawId  userFavsCount  \\\n",
       "0        47  Mon May 01 19:01:13 +0200 2017           1           3550   \n",
       "1        47  Mon May 01 19:01:13 +0200 2017           1           3550   \n",
       "2         4  Mon May 01 19:01:13 +0200 2017           2           5663   \n",
       "3         4  Mon May 01 19:01:13 +0200 2017           2           5663   \n",
       "4        80  Mon May 01 19:01:13 +0200 2017           3           2103   \n",
       "\n",
       "   userFollowersCount  userFriendsCount userId userLocation  userStatusesCount  \n",
       "0                 482                 2    287    Barcelona               2625  \n",
       "1                 482                 2    287    Barcelona               2625  \n",
       "2                 880                 5    881    Barcelona               3293  \n",
       "3                 880                 5    881    Barcelona               3293  \n",
       "4                 184                10    519    Barcelona               3071  "
      ]
     },
     "execution_count": 209,
     "metadata": {},
     "output_type": "execute_result"
    }
   ],
   "source": [
    "# construct the list of tweets per band\n",
    "band_tweets_list = []\n",
    "tweets.apply(band_partition, axis=1);\n",
    "\n",
    "# create a dataframe from the previous list\n",
    "band_tweets = pd.DataFrame.from_dict(band_tweets_list)\n",
    "band_tweets.head()"
   ]
  },
  {
   "cell_type": "markdown",
   "metadata": {},
   "source": [
    "## Explore Tweet Data"
   ]
  },
  {
   "cell_type": "code",
   "execution_count": 216,
   "metadata": {
    "collapsed": false
   },
   "outputs": [
    {
     "name": "stdout",
     "output_type": "stream",
     "text": [
      "Tweets about mishima:     26\n",
      "Tweets about arcade fire: 16\n",
      "Tweets about bon iver:    12\n",
      "Tweets about animic:      16\n",
      "Tweets about !!!:         18\n"
     ]
    }
   ],
   "source": [
    "# Count tweets per band (manual)\n",
    "print(\"Tweets about mishima:     {}\".format(band_tweets[band_tweets['bandCodedName'] == \"mishima\"].shape[0]))\n",
    "print(\"Tweets about arcade fire: {}\".format(band_tweets[band_tweets['bandCodedName'] == \"arcadefire\"].shape[0]))\n",
    "print(\"Tweets about bon iver:    {}\".format(band_tweets[band_tweets['bandCodedName'] == \"boniver\"].shape[0]))\n",
    "print(\"Tweets about animic:      {}\".format(band_tweets[band_tweets['bandCodedName'] == \"animic\"].shape[0]))\n",
    "print(\"Tweets about !!!:         {}\".format(band_tweets[band_tweets['bandCodedName'] == \"!!!\"].shape[0]))"
   ]
  },
  {
   "cell_type": "code",
   "execution_count": 274,
   "metadata": {
    "collapsed": false,
    "scrolled": false
   },
   "outputs": [
    {
     "name": "stdout",
     "output_type": "stream",
     "text": [
      "bandCodedName\n",
      "!!!           18\n",
      "animic        16\n",
      "arcadefire    16\n",
      "boniver       12\n",
      "mishima       26\n",
      "dtype: int64\n"
     ]
    }
   ],
   "source": [
    "# Count tweets per band (auto)\n",
    "print(band_tweets.groupby('bandCodedName').size())"
   ]
  },
  {
   "cell_type": "code",
   "execution_count": 273,
   "metadata": {
    "collapsed": false
   },
   "outputs": [
    {
     "name": "stdout",
     "output_type": "stream",
     "text": [
      "Tweets about mishima:  26\n",
      "Total Favs of mishima: 1117\n",
      "Total RTs of mishima:  1353\n"
     ]
    }
   ],
   "source": [
    "# Count measures of a band\n",
    "bandCodedName = 'mishima'\n",
    "print(\"Tweets about {}:  {}\".format(bandCodedName,band_tweets.groupby('bandCodedName').size()[bandCodedName]))\n",
    "print(\"Total Favs of {}: {}\".format(bandCodedName,band_tweets.groupby('bandCodedName').sum()['favsCount'][bandCodedName]))\n",
    "print(\"Total RTs of {}:  {}\".format(bandCodedName,band_tweets.groupby('bandCodedName').sum()['rtsCount'][bandCodedName]))"
   ]
  },
  {
   "cell_type": "code",
   "execution_count": 268,
   "metadata": {
    "collapsed": false
   },
   "outputs": [
    {
     "data": {
      "text/plain": [
       "Index(['bandCodedName', 'bandId', 'createdAt', 'favsCount', 'language',\n",
       "       'rtsCount', 'storedAt', 'tweetRawId', 'userFavsCount',\n",
       "       'userFollowersCount', 'userFriendsCount', 'userId', 'userLocation',\n",
       "       'userStatusesCount'],\n",
       "      dtype='object')"
      ]
     },
     "execution_count": 268,
     "metadata": {},
     "output_type": "execute_result"
    }
   ],
   "source": [
    "band_tweets.columns"
   ]
  },
  {
   "cell_type": "code",
   "execution_count": 278,
   "metadata": {
    "collapsed": false
   },
   "outputs": [],
   "source": [
    "# timeline of tweet creations\n",
    "bandCodedName = 'mishima'\n",
    "tweet_creations =(band_tweets[band_tweets['bandCodedName'] == bandCodedName])['createdAt']"
   ]
  },
  {
   "cell_type": "code",
   "execution_count": null,
   "metadata": {
    "collapsed": true
   },
   "outputs": [],
   "source": []
  },
  {
   "cell_type": "code",
   "execution_count": 279,
   "metadata": {
    "collapsed": true
   },
   "outputs": [],
   "source": [
    "%matplotlib inline\n",
    "import numpy as np\n",
    "import matplotlib as mpl\n",
    "import matplotlib.pyplot as plt\n",
    "import seaborn as sns"
   ]
  },
  {
   "cell_type": "code",
   "execution_count": 287,
   "metadata": {
    "collapsed": false
   },
   "outputs": [
    {
     "data": {
      "text/plain": [
       "<matplotlib.axes._subplots.AxesSubplot at 0x1172a2550>"
      ]
     },
     "execution_count": 287,
     "metadata": {},
     "output_type": "execute_result"
    },
    {
     "data": {
      "image/png": "[encoded data removed]",
      "text/plain": [
       "<matplotlib.figure.Figure at 0x117297ba8>"
      ]
     },
     "metadata": {},
     "output_type": "display_data"
    }
   ],
   "source": [
    "band_tweets['favsCount'].plot()"
   ]
  },
  {
   "cell_type": "code",
   "execution_count": null,
   "metadata": {
    "collapsed": true
   },
   "outputs": [],
   "source": []
  }
 ],
 "metadata": {
  "anaconda-cloud": {},
  "kernelspec": {
   "display_name": "Python [conda root]",
   "language": "python",
   "name": "conda-root-py"
  },
  "language_info": {
   "codemirror_mode": {
    "name": "ipython",
    "version": 3
   },
   "file_extension": ".py",
   "mimetype": "text/x-python",
   "name": "python",
   "nbconvert_exporter": "python",
   "pygments_lexer": "ipython3",
   "version": "3.5.2"
  }
 },
 "nbformat": 4,
 "nbformat_minor": 1
}
