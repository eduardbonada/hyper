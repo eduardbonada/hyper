{
 "cells": [
  {
   "cell_type": "markdown",
   "metadata": {},
   "source": [
    "# Hyper\n",
    "\n",
    "A script to detect the most hyped (popular) bands of a festival"
   ]
  },
  {
   "cell_type": "code",
   "execution_count": 1,
   "metadata": {
    "collapsed": true
   },
   "outputs": [],
   "source": [
    "# https://www.dataquest.io/blog/python-pandas-databases/"
   ]
  },
  {
   "cell_type": "code",
   "execution_count": 1,
   "metadata": {
    "collapsed": true
   },
   "outputs": [],
   "source": [
    "import sqlite3\n",
    "import pandas as pd\n",
    "import string\n",
    "import unicodedata\n",
    "import numpy as np"
   ]
  },
  {
   "cell_type": "markdown",
   "metadata": {},
   "source": [
    "## Load Data"
   ]
  },
  {
   "cell_type": "code",
   "execution_count": 2,
   "metadata": {
    "collapsed": false
   },
   "outputs": [],
   "source": [
    "# Setup sqlite\n",
    "sqlite_file = 'hyper.db'\n",
    "\n",
    "# Connect to the database sqlite file\n",
    "connection = sqlite3.connect(sqlite_file)\n",
    "db = connection.cursor()"
   ]
  },
  {
   "cell_type": "code",
   "execution_count": 17,
   "metadata": {
    "collapsed": false
   },
   "outputs": [
    {
     "name": "stdout",
     "output_type": "stream",
     "text": [
      "268 bands read\n"
     ]
    }
   ],
   "source": [
    "# get list of bands from db\n",
    "bands = pd.read_sql_query(\"SELECT * FROM Bands;\", connection)\n",
    "print(\"{} bands read\".format(len(bands)))\n",
    "#bands.head()"
   ]
  },
  {
   "cell_type": "code",
   "execution_count": 4,
   "metadata": {
    "collapsed": false
   },
   "outputs": [
    {
     "name": "stdout",
     "output_type": "stream",
     "text": [
      "3430 tweets in db\n"
     ]
    }
   ],
   "source": [
    "# read ALL tweets from db\n",
    "all_tweets = pd.read_sql_query(\"SELECT * FROM TweetsRaw\", connection)\n",
    "print(\"{} tweets in db\".format(len(all_tweets)))"
   ]
  },
  {
   "cell_type": "code",
   "execution_count": 5,
   "metadata": {
    "collapsed": false
   },
   "outputs": [
    {
     "name": "stdout",
     "output_type": "stream",
     "text": [
      "1690 tweets to be processed\n"
     ]
    }
   ],
   "source": [
    "# read ONLY tweets that have to be processed\n",
    "tweets_to_process = pd.read_sql_query(\"SELECT * FROM TweetsRaw WHERE processed IS NULL\", connection)\n",
    "print(\"{} tweets to be processed\".format(len(tweets_to_process)))"
   ]
  },
  {
   "cell_type": "code",
   "execution_count": 6,
   "metadata": {
    "collapsed": false
   },
   "outputs": [],
   "source": [
    "# read ONLY tweets that have to be processed\n",
    "#tweets_to_process = pd.read_sql_query(\"SELECT tr.* FROM TweetsRaw AS tr \\\n",
    "#                                       LEFT JOIN BandTweets AS bt ON tr.id == bt.tweetRawId \\\n",
    "#                                       WHERE bt.tweetRawId IS NULL\", connection)\n",
    "#print(\"{} tweets to process\".format(len(tweets_to_process)))"
   ]
  },
  {
   "cell_type": "code",
   "execution_count": 7,
   "metadata": {
    "collapsed": false
   },
   "outputs": [],
   "source": [
    "# tweets_to_process = tweets_to_process.head(50)\n",
    "# print(\"{} tweets to process (!!!REMOVE!!!)\".format(len(tweets_to_process)))"
   ]
  },
  {
   "cell_type": "markdown",
   "metadata": {},
   "source": [
    "## Partition per band\n",
    "\n",
    "Look for tweets talking about bands and re-create data structure in a band-centered way"
   ]
  },
  {
   "cell_type": "code",
   "execution_count": 8,
   "metadata": {
    "collapsed": false
   },
   "outputs": [],
   "source": [
    "def extract_bands(tweet):\n",
    "    \"\"\"\n",
    "    Function that extracts the bands from a tweet text\n",
    "    Returns a list of bands\n",
    "    \"\"\"\n",
    "    \n",
    "    # init list to return\n",
    "    bands_in_tweet = []\n",
    "    \n",
    "    # loop all bands and check of any of the written forms is present in the tweet text\n",
    "    for i, b in bands.iterrows():\n",
    "                \n",
    "        # set different band names writing possibilities\n",
    "        bandname = b['name']\n",
    "        bandname_lowercase = bandname.lower()\n",
    "        bandname_lowercase_no_spaces = ''.join(bandname_lowercase.split())\n",
    "        bandname_lowercase_no_accents = ''.join((c for c in unicodedata.normalize('NFD', bandname_lowercase) if unicodedata.category(c) != 'Mn'))\n",
    "        bandname_lowercase_no_spaces_no_accents = ''.join((c for c in unicodedata.normalize('NFD', bandname_lowercase_no_spaces) if unicodedata.category(c) != 'Mn'))\n",
    "\n",
    "        # check if any of the forms is in the tweet text\n",
    "        if any(s in tweet['tweetText'].lower() for s in [bandname_lowercase, bandname_lowercase_no_spaces, bandname_lowercase_no_accents, bandname_lowercase_no_spaces_no_accents, b['twitterName']]):\n",
    "            bands_in_tweet.append({\"id\": b['id'], \"codedName\": b['codedName']})\n",
    "\n",
    "    return bands_in_tweet"
   ]
  },
  {
   "cell_type": "code",
   "execution_count": 9,
   "metadata": {
    "collapsed": false
   },
   "outputs": [],
   "source": [
    "def band_partition(tweet):\n",
    "    \"\"\"\n",
    "    Function that reads a single tweet info and adds into a list the tweet information partitioned by bands.\n",
    "    I.e. If a tweet mentions 2 bands, it adds a list of 2 dicts with the tweet info\n",
    "    \"\"\"\n",
    "    \n",
    "    # loop all bands and add an entry to the list\n",
    "    for b in tweet['bands']:\n",
    "        new_band_tweets_list.append({\\\n",
    "                                 \"tweetRawId\" : tweet['id'],\\\n",
    "                                 \"createdAt\" : tweet['createdAt'],\\\n",
    "                                 \"storedAt\" : tweet['storedAt'],\\\n",
    "                                 \"bandId\" : b['id'],\\\n",
    "                                 \"bandCodedName\" : b['codedName'],\\\n",
    "                                 \"favsCount\" : tweet['favsCount'],\\\n",
    "                                 \"rtsCount\" : tweet['rtsCount'],\\\n",
    "                                 \"language\" : tweet['language'],\\\n",
    "                                 \"userId\" : tweet['userId'],\\\n",
    "                                 \"userFriendsCount\" : tweet['userFriendsCount'],\\\n",
    "                                 \"userFollowersCount\" : tweet['userFollowersCount'],\\\n",
    "                                 \"userStatusesCount\" : tweet['userStatusesCount'],\\\n",
    "                                 \"userFavsCount\" : tweet['userFavsCount'],\\\n",
    "                                 \"userLocation\" : tweet['userLocation']\\\n",
    "                                })\n",
    "    \n",
    "    # Mark TweetsRaw as processed\n",
    "    db.execute(\"UPDATE TweetsRaw SET processed = 1 WHERE id == {}\".format(tweet.id))\n",
    "    connection.commit()"
   ]
  },
  {
   "cell_type": "code",
   "execution_count": 10,
   "metadata": {
    "collapsed": false
   },
   "outputs": [
    {
     "name": "stdout",
     "output_type": "stream",
     "text": [
      "522 band-tweets\n"
     ]
    }
   ],
   "source": [
    "if(tweets_to_process.shape[0] > 0):\n",
    "\n",
    "    # extract bands for each tweet\n",
    "    tweets_to_process['bands'] = tweets_to_process.apply(extract_bands, axis=1)\n",
    "\n",
    "    # construct the list of tweets per band\n",
    "    new_band_tweets_list = []\n",
    "    tweets_to_process.apply(band_partition, axis=1);\n",
    "\n",
    "    # create a dataframe from the previous list\n",
    "    new_band_tweets = pd.DataFrame.from_dict(new_band_tweets_list)\n",
    "    print(\"{} band-tweets\".format(new_band_tweets.shape[0]))\n",
    "else:\n",
    "    new_band_tweets = pd.DataFrame([])\n",
    "    print(\"No new tweets to process\")"
   ]
  },
  {
   "cell_type": "code",
   "execution_count": 11,
   "metadata": {
    "collapsed": false
   },
   "outputs": [
    {
     "name": "stdout",
     "output_type": "stream",
     "text": [
      "522 new band tweets persisted\n"
     ]
    }
   ],
   "source": [
    "# Persist extracted tweets in DB (BandTweets table)\n",
    "if(new_band_tweets.shape[0] > 0):\n",
    "    new_band_tweets[['tweetRawId', 'bandId']].to_sql('BandTweets', connection, if_exists='append')\n",
    "    print(\"{} new band tweets persisted\".format(new_band_tweets.shape[0]))\n",
    "else:\n",
    "    print(\"No new band tweets to persist\")"
   ]
  },
  {
   "cell_type": "markdown",
   "metadata": {},
   "source": [
    "## Explore Band-Tweet Data"
   ]
  },
  {
   "cell_type": "code",
   "execution_count": 30,
   "metadata": {
    "collapsed": false
   },
   "outputs": [
    {
     "name": "stdout",
     "output_type": "stream",
     "text": [
      "981 band tweets in db\n"
     ]
    }
   ],
   "source": [
    "# Construct a dataframe joining data from TweetsRaw and BandTweets\n",
    "band_tweets = pd.read_sql_query(\"SELECT bt.bandId, \\\n",
    "                                        b.name AS bandName, \\\n",
    "                                        b.codedName AS bandCodedName, \\\n",
    "                                        b.headLevel AS headLevel, \\\n",
    "                                        b.popularity AS popularity, \\\n",
    "                                        tr.* \\\n",
    "                                 FROM BandTweets AS bt\\\n",
    "                                 LEFT JOIN TweetsRaw AS tr ON bt.tweetRawId == tr.id \\\n",
    "                                 LEFT JOIN Bands AS b ON bt.bandId == b.id\", connection)\n",
    "print(\"{} band tweets in db\".format(band_tweets.shape[0]))"
   ]
  },
  {
   "cell_type": "code",
   "execution_count": 31,
   "metadata": {
    "collapsed": true
   },
   "outputs": [
    {
     "name": "stdout",
     "output_type": "stream",
     "text": [
      "bandCodedName\n",
      "frankocean            65\n",
      "!!!                   56\n",
      "arcadefire            50\n",
      "tie                   46\n",
      "grandaddy             35\n",
      "slayer                30\n",
      "teenagefanclub        24\n",
      "boniver               23\n",
      "aphextwin             21\n",
      "valius                19\n",
      "pavvla                18\n",
      "thezombies            18\n",
      "pond                  17\n",
      "belako                17\n",
      "solange               16\n",
      "gas                   16\n",
      "elzasoares            15\n",
      "chkchkchk             14\n",
      "thecrabapples         14\n",
      "runthejewels          13\n",
      "kinggizzard           13\n",
      "keems                 13\n",
      "thexx                 13\n",
      "museless              12\n",
      "glassanimals          12\n",
      "macdemarco            11\n",
      "juliajacklin          11\n",
      "angelolsen            10\n",
      "astronautproject       9\n",
      "skepta                 9\n",
      "                      ..\n",
      "againstme!             1\n",
      "weyesblood             1\n",
      "abdullarashim          1\n",
      "7notas7colores         1\n",
      "shao                   1\n",
      "moscoman               1\n",
      "silentjames            1\n",
      "cocainepiss            1\n",
      "jeremyjay              1\n",
      "innercut               1\n",
      "joyorbison             1\n",
      "hamiltonleithauser     1\n",
      "sorrykate              1\n",
      "juliedoiron            1\n",
      "gordi                  1\n",
      "goldclass              1\n",
      "swetshopboys           1\n",
      "khidja                 1\n",
      "thedamned              1\n",
      "sinkane                1\n",
      "mannequinpussy         1\n",
      "maquinatotal           1\n",
      "djcoco                 1\n",
      "dixon                  1\n",
      "marcpinol              1\n",
      "descendents            1\n",
      "martadelmont           1\n",
      "metronomy              1\n",
      "jackmaster             1\n",
      "inzul                  1\n",
      "dtype: int64\n"
     ]
    }
   ],
   "source": [
    "# Count tweets per band\n",
    "print(band_tweets.groupby('bandCodedName').size().sort_values(ascending=False))"
   ]
  },
  {
   "cell_type": "code",
   "execution_count": 33,
   "metadata": {
    "collapsed": false
   },
   "outputs": [
    {
     "name": "stdout",
     "output_type": "stream",
     "text": [
      "Tweets about arcadefire:  50\n",
      "Total Favs of arcadefire: 72\n",
      "Total RTs of arcadefire:  39\n"
     ]
    }
   ],
   "source": [
    "# Count measures of a given band\n",
    "bandCodedName = 'arcadefire'\n",
    "print(\"Tweets about {}:  {}\".format(bandCodedName,band_tweets.groupby('bandCodedName').size()[bandCodedName]))\n",
    "print(\"Total Favs of {}: {}\".format(bandCodedName,band_tweets.groupby('bandCodedName').sum()['favsCount'][bandCodedName]))\n",
    "print(\"Total RTs of {}:  {}\".format(bandCodedName,band_tweets.groupby('bandCodedName').sum()['rtsCount'][bandCodedName]))"
   ]
  },
  {
   "cell_type": "markdown",
   "metadata": {},
   "source": [
    "## Explore Band-Tweet Timelines"
   ]
  },
  {
   "cell_type": "code",
   "execution_count": 34,
   "metadata": {
    "collapsed": true
   },
   "outputs": [],
   "source": [
    "%matplotlib inline\n",
    "import numpy as np\n",
    "import matplotlib as mpl\n",
    "import matplotlib.pyplot as plt\n",
    "import seaborn as sns"
   ]
  },
  {
   "cell_type": "code",
   "execution_count": 23,
   "metadata": {
    "collapsed": false
   },
   "outputs": [
    {
     "data": {
      "text/plain": [
       "<matplotlib.axes._subplots.AxesSubplot at 0x11423d0b8>"
      ]
     },
     "execution_count": 23,
     "metadata": {},
     "output_type": "execute_result"
    },
    {
     "data": {
      "image/png": "[encoded data removed]",
      "text/plain": [
       "<matplotlib.figure.Figure at 0x11449b748>"
      ]
     },
     "metadata": {},
     "output_type": "display_data"
    }
   ],
   "source": [
    "# timeline of tweets - all bands\n",
    "# https://chrisalbon.com/python/pandas_group_data_by_time.html\n",
    "band_tweets['createdAt'] = pd.to_datetime(band_tweets['createdAt'], format ='%a %b %d %H:%M:%S +0000 %Y')\n",
    "band_tweets.index = band_tweets['createdAt']\n",
    "band_tweets.resample('H').count()['bandId'].plot(kind='area')"
   ]
  },
  {
   "cell_type": "code",
   "execution_count": 25,
   "metadata": {
    "collapsed": false
   },
   "outputs": [
    {
     "name": "stderr",
     "output_type": "stream",
     "text": [
      "/Users/eduard/anaconda/lib/python3.5/site-packages/ipykernel/__main__.py:4: SettingWithCopyWarning: \n",
      "A value is trying to be set on a copy of a slice from a DataFrame.\n",
      "Try using .loc[row_indexer,col_indexer] = value instead\n",
      "\n",
      "See the caveats in the documentation: http://pandas.pydata.org/pandas-docs/stable/indexing.html#indexing-view-versus-copy\n"
     ]
    },
    {
     "data": {
      "text/plain": [
       "<matplotlib.axes._subplots.AxesSubplot at 0x114438710>"
      ]
     },
     "execution_count": 25,
     "metadata": {},
     "output_type": "execute_result"
    },
    {
     "data": {
      "image/png": "[encoded data removed]",
      "text/plain": [
       "<matplotlib.figure.Figure at 0x119ddefd0>"
      ]
     },
     "metadata": {},
     "output_type": "display_data"
    }
   ],
   "source": [
    "# timeline of tweets - single band\n",
    "bandCodedName = 'frankocean'\n",
    "single_band_tweets = band_tweets[band_tweets['bandCodedName'] == bandCodedName]\n",
    "single_band_tweets['createdAt'] = pd.to_datetime(single_band_tweets['createdAt'], format ='%a %b %d %H:%M:%S +0000 %Y')\n",
    "single_band_tweets.index = single_band_tweets['createdAt']\n",
    "single_band_tweets.resample('H').count()['bandId'].plot(kind='area')"
   ]
  },
  {
   "cell_type": "markdown",
   "metadata": {},
   "source": [
    "## Hyper Score & Ranking\n",
    "\n",
    "Create the dataframe with one row per band and all the metrics associated"
   ]
  },
  {
   "cell_type": "code",
   "execution_count": 40,
   "metadata": {
    "collapsed": false
   },
   "outputs": [],
   "source": [
    "# group and sum band tweets by band\n",
    "band_hypes = band_tweets.groupby(['bandCodedName', 'bandName', 'bandId', 'headLevel', 'popularity']).sum()\n",
    "\n",
    "# insert a column with the number of tweets\n",
    "band_hypes['tweets'] = band_tweets.groupby(['bandCodedName', 'bandName', 'bandId', 'headLevel', 'popularity']).size()\n",
    "\n",
    "# reset the index created in the group by\n",
    "band_hypes = band_hypes.reset_index()\n",
    "\n",
    "# delete not needed columns\n",
    "del band_hypes['id']\n",
    "del band_hypes['userFriendsCount']\n",
    "del band_hypes['userFollowersCount']\n",
    "del band_hypes['userStatusesCount']\n",
    "del band_hypes['userFavsCount']\n",
    "del band_hypes['processed']\n",
    "\n",
    "# rename and re-order columns\n",
    "band_hypes = band_hypes.rename(columns={'favsCount':'favs', 'rtsCount':'retweets'})\n",
    "band_hypes = band_hypes[['bandId', 'bandCodedName', 'bandName', 'headLevel', 'popularity', 'tweets', 'favs', 'retweets']]"
   ]
  },
  {
   "cell_type": "markdown",
   "metadata": {},
   "source": [
    "### BF-IBP (TF-IDF revisited)\n",
    "Band Frequency - Inverse BAnd Popularity\n",
    "- term => band\n",
    "- document => all tweets\n",
    "- corpus of documents => X\n",
    "\n",
    "#### TF: Term Frequency (normalized)\n",
    "Definition:\n",
    "- Measures how frequently a term occurs in a document\n",
    "- Measures how frequently a band is mentioned in a set of tweets\n",
    "\n",
    "Computation:\n",
    "- number of times term t appears in a document / total number of terms in the document\n",
    "- number of tweets talking about that band / total number of tweets\n",
    "\n",
    "#### IDF: Inverse Document Frequency\n",
    "Definition:\n",
    "- Measures how important a term\n",
    "- Measures how important a band is\n",
    "\n",
    "Computation:\n",
    "- log( total number of documents / number of documents with term t in it)\n",
    "- we don't have other documents so we need another way to measure how important a band is...\n",
    "  - we will consider the level of headliner of the band (according to the font size used in the festival lineup poster)\n",
    "  - 5 levels: 1 (top line-up) to 5 (bottom line-up)"
   ]
  },
  {
   "cell_type": "code",
   "execution_count": 51,
   "metadata": {
    "collapsed": false
   },
   "outputs": [],
   "source": [
    "# Compute BF-IBP (Band Frequency - Inverse Band Popularity)\n",
    "bf_numerator = band_hypes['tweets']*(1 + band_hypes['favs'] + band_hypes['retweets'])\n",
    "band_hypes['bf_ibp'] = (bf_numerator/bf_numerator.sum()) * np.log(band_hypes['popularity'].astype(float) + 1)"
   ]
  },
  {
   "cell_type": "code",
   "execution_count": 52,
   "metadata": {
    "collapsed": false
   },
   "outputs": [
    {
     "data": {
      "text/html": [
       "<div>\n",
       "<table border=\"1\" class=\"dataframe\">\n",
       "  <thead>\n",
       "    <tr style=\"text-align: right;\">\n",
       "      <th></th>\n",
       "      <th>bandId</th>\n",
       "      <th>bandCodedName</th>\n",
       "      <th>bandName</th>\n",
       "      <th>headLevel</th>\n",
       "      <th>popularity</th>\n",
       "      <th>tweets</th>\n",
       "      <th>favs</th>\n",
       "      <th>retweets</th>\n",
       "      <th>bf-ibp</th>\n",
       "      <th>bf_ibp</th>\n",
       "    </tr>\n",
       "  </thead>\n",
       "  <tbody>\n",
       "    <tr>\n",
       "      <th>49</th>\n",
       "      <td>75</td>\n",
       "      <td>grandaddy</td>\n",
       "      <td>Grandaddy</td>\n",
       "      <td>3</td>\n",
       "      <td>54</td>\n",
       "      <td>35</td>\n",
       "      <td>36</td>\n",
       "      <td>254</td>\n",
       "      <td>0.628324</td>\n",
       "      <td>0.628324</td>\n",
       "    </tr>\n",
       "    <tr>\n",
       "      <th>40</th>\n",
       "      <td>66</td>\n",
       "      <td>frankocean</td>\n",
       "      <td>Frank Ocean</td>\n",
       "      <td>1</td>\n",
       "      <td>87</td>\n",
       "      <td>65</td>\n",
       "      <td>52</td>\n",
       "      <td>58</td>\n",
       "      <td>0.497306</td>\n",
       "      <td>0.497306</td>\n",
       "    </tr>\n",
       "    <tr>\n",
       "      <th>124</th>\n",
       "      <td>203</td>\n",
       "      <td>teenagefanclub</td>\n",
       "      <td>Teenage Fanclub</td>\n",
       "      <td>2</td>\n",
       "      <td>46</td>\n",
       "      <td>24</td>\n",
       "      <td>1</td>\n",
       "      <td>327</td>\n",
       "      <td>0.468006</td>\n",
       "      <td>0.468006</td>\n",
       "    </tr>\n",
       "    <tr>\n",
       "      <th>0</th>\n",
       "      <td>1</td>\n",
       "      <td>!!!</td>\n",
       "      <td>!!!</td>\n",
       "      <td>3</td>\n",
       "      <td>50</td>\n",
       "      <td>56</td>\n",
       "      <td>45</td>\n",
       "      <td>67</td>\n",
       "      <td>0.383026</td>\n",
       "      <td>0.383026</td>\n",
       "    </tr>\n",
       "    <tr>\n",
       "      <th>134</th>\n",
       "      <td>265</td>\n",
       "      <td>tie</td>\n",
       "      <td>Tiê</td>\n",
       "      <td>5</td>\n",
       "      <td>52</td>\n",
       "      <td>46</td>\n",
       "      <td>50</td>\n",
       "      <td>80</td>\n",
       "      <td>0.368315</td>\n",
       "      <td>0.368315</td>\n",
       "    </tr>\n",
       "    <tr>\n",
       "      <th>13</th>\n",
       "      <td>21</td>\n",
       "      <td>arcadefire</td>\n",
       "      <td>Arcade Fire</td>\n",
       "      <td>1</td>\n",
       "      <td>68</td>\n",
       "      <td>50</td>\n",
       "      <td>72</td>\n",
       "      <td>39</td>\n",
       "      <td>0.365020</td>\n",
       "      <td>0.365020</td>\n",
       "    </tr>\n",
       "    <tr>\n",
       "      <th>35</th>\n",
       "      <td>59</td>\n",
       "      <td>elzasoares</td>\n",
       "      <td>Elza Soares</td>\n",
       "      <td>3</td>\n",
       "      <td>47</td>\n",
       "      <td>15</td>\n",
       "      <td>17</td>\n",
       "      <td>140</td>\n",
       "      <td>0.141241</td>\n",
       "      <td>0.141241</td>\n",
       "    </tr>\n",
       "    <tr>\n",
       "      <th>96</th>\n",
       "      <td>158</td>\n",
       "      <td>pavvla</td>\n",
       "      <td>PAVVLA</td>\n",
       "      <td>4</td>\n",
       "      <td>35</td>\n",
       "      <td>18</td>\n",
       "      <td>14</td>\n",
       "      <td>95</td>\n",
       "      <td>0.109230</td>\n",
       "      <td>0.109230</td>\n",
       "    </tr>\n",
       "    <tr>\n",
       "      <th>133</th>\n",
       "      <td>229</td>\n",
       "      <td>thezombies</td>\n",
       "      <td>The Zombies</td>\n",
       "      <td>3</td>\n",
       "      <td>59</td>\n",
       "      <td>18</td>\n",
       "      <td>13</td>\n",
       "      <td>69</td>\n",
       "      <td>0.094168</td>\n",
       "      <td>0.094168</td>\n",
       "    </tr>\n",
       "    <tr>\n",
       "      <th>120</th>\n",
       "      <td>197</td>\n",
       "      <td>solange</td>\n",
       "      <td>Solange</td>\n",
       "      <td>1</td>\n",
       "      <td>68</td>\n",
       "      <td>16</td>\n",
       "      <td>14</td>\n",
       "      <td>57</td>\n",
       "      <td>0.075090</td>\n",
       "      <td>0.075090</td>\n",
       "    </tr>\n",
       "  </tbody>\n",
       "</table>\n",
       "</div>"
      ],
      "text/plain": [
       "     bandId   bandCodedName         bandName headLevel  popularity  tweets  \\\n",
       "49       75       grandaddy        Grandaddy         3          54      35   \n",
       "40       66      frankocean      Frank Ocean         1          87      65   \n",
       "124     203  teenagefanclub  Teenage Fanclub         2          46      24   \n",
       "0         1             !!!              !!!         3          50      56   \n",
       "134     265             tie              Tiê         5          52      46   \n",
       "13       21      arcadefire      Arcade Fire         1          68      50   \n",
       "35       59      elzasoares      Elza Soares         3          47      15   \n",
       "96      158          pavvla           PAVVLA         4          35      18   \n",
       "133     229      thezombies      The Zombies         3          59      18   \n",
       "120     197         solange          Solange         1          68      16   \n",
       "\n",
       "     favs  retweets    bf-ibp    bf_ibp  \n",
       "49     36       254  0.628324  0.628324  \n",
       "40     52        58  0.497306  0.497306  \n",
       "124     1       327  0.468006  0.468006  \n",
       "0      45        67  0.383026  0.383026  \n",
       "134    50        80  0.368315  0.368315  \n",
       "13     72        39  0.365020  0.365020  \n",
       "35     17       140  0.141241  0.141241  \n",
       "96     14        95  0.109230  0.109230  \n",
       "133    13        69  0.094168  0.094168  \n",
       "120    14        57  0.075090  0.075090  "
      ]
     },
     "execution_count": 52,
     "metadata": {},
     "output_type": "execute_result"
    }
   ],
   "source": [
    "# band_hypes.sort_values(by='tweets', ascending=False).head(10)\n",
    "band_hypes.sort_values(by='bf_ibp', ascending=False).head(10)"
   ]
  },
  {
   "cell_type": "code",
   "execution_count": 50,
   "metadata": {
    "collapsed": false
   },
   "outputs": [],
   "source": [
    "# Persist band_hypes to DB\n",
    "sqlite_file_write = 'hyper.db'\n",
    "connection_write = sqlite3.connect(sqlite_file_write)\n",
    "db = connection_write.cursor()\n",
    "band_hypes[['bandId','tweets','favs','retweets','bf_ibp']].to_sql(\"BandsHype\", connection_write, if_exists=\"replace\", index=False)"
   ]
  },
  {
   "cell_type": "code",
   "execution_count": null,
   "metadata": {
    "collapsed": true
   },
   "outputs": [],
   "source": []
  }
 ],
 "metadata": {
  "anaconda-cloud": {},
  "kernelspec": {
   "display_name": "Python [conda root]",
   "language": "python",
   "name": "conda-root-py"
  },
  "language_info": {
   "codemirror_mode": {
    "name": "ipython",
    "version": 3
   },
   "file_extension": ".py",
   "mimetype": "text/x-python",
   "name": "python",
   "nbconvert_exporter": "python",
   "pygments_lexer": "ipython3",
   "version": "3.5.2"
  }
 },
 "nbformat": 4,
 "nbformat_minor": 1
}
