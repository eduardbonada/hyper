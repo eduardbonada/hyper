{
 "cells": [
  {
   "cell_type": "markdown",
   "metadata": {},
   "source": [
    "# Process Tweets\n",
    "\n",
    "A script to detect the most hyped (popular) bands of a festival"
   ]
  },
  {
   "cell_type": "code",
   "execution_count": 1,
   "metadata": {
    "collapsed": true
   },
   "outputs": [],
   "source": [
    "# https://www.dataquest.io/blog/python-pandas-databases/"
   ]
  },
  {
   "cell_type": "code",
   "execution_count": 15,
   "metadata": {
    "collapsed": true
   },
   "outputs": [],
   "source": [
    "import sqlite3\n",
    "import pandas as pd\n",
    "import string\n",
    "import unicodedata\n",
    "import numpy as np\n",
    "from datetime import datetime, timedelta"
   ]
  },
  {
   "cell_type": "markdown",
   "metadata": {},
   "source": [
    "## Load Data"
   ]
  },
  {
   "cell_type": "code",
   "execution_count": 2,
   "metadata": {
    "collapsed": false
   },
   "outputs": [],
   "source": [
    "# Setup sqlite\n",
    "sqlite_file = 'hyper_live.db'\n",
    "\n",
    "# Connect to the database sqlite file\n",
    "connection = sqlite3.connect(sqlite_file)\n",
    "db = connection.cursor()"
   ]
  },
  {
   "cell_type": "code",
   "execution_count": 3,
   "metadata": {
    "collapsed": false
   },
   "outputs": [
    {
     "name": "stdout",
     "output_type": "stream",
     "text": [
      "267 bands read\n"
     ]
    }
   ],
   "source": [
    "# get list of bands from db\n",
    "bands = pd.read_sql_query(\"SELECT * FROM Bands;\", connection)\n",
    "print(\"{} bands read\".format(len(bands)))\n",
    "#bands.head()"
   ]
  },
  {
   "cell_type": "code",
   "execution_count": 4,
   "metadata": {
    "collapsed": false
   },
   "outputs": [
    {
     "name": "stdout",
     "output_type": "stream",
     "text": [
      "5879 tweets in db\n"
     ]
    }
   ],
   "source": [
    "# read ALL tweets from db\n",
    "all_tweets = pd.read_sql_query(\"SELECT * FROM TweetsRaw\", connection)\n",
    "print(\"{} tweets in db\".format(len(all_tweets)))"
   ]
  },
  {
   "cell_type": "code",
   "execution_count": 5,
   "metadata": {
    "collapsed": false
   },
   "outputs": [
    {
     "name": "stdout",
     "output_type": "stream",
     "text": [
      "0 tweets to be processed\n"
     ]
    }
   ],
   "source": [
    "# read ONLY tweets that have to be processed\n",
    "tweets_to_process = pd.read_sql_query(\"SELECT * FROM TweetsRaw WHERE processed IS NULL\", connection)\n",
    "print(\"{} tweets to be processed\".format(len(tweets_to_process)))"
   ]
  },
  {
   "cell_type": "code",
   "execution_count": 6,
   "metadata": {
    "collapsed": false
   },
   "outputs": [],
   "source": [
    "# read ONLY tweets that have to be processed\n",
    "#tweets_to_process = pd.read_sql_query(\"SELECT tr.* FROM TweetsRaw AS tr \\\n",
    "#                                       LEFT JOIN BandTweets AS bt ON tr.id == bt.tweetRawId \\\n",
    "#                                       WHERE bt.tweetRawId IS NULL\", connection)\n",
    "#print(\"{} tweets to process\".format(len(tweets_to_process)))"
   ]
  },
  {
   "cell_type": "code",
   "execution_count": 50,
   "metadata": {
    "collapsed": false
   },
   "outputs": [],
   "source": [
    "# tweets_to_process = tweets_to_process.head(50)\n",
    "# print(\"{} tweets to process (!!!REMOVE!!!)\".format(len(tweets_to_process)))"
   ]
  },
  {
   "cell_type": "markdown",
   "metadata": {},
   "source": [
    "## Partition per band\n",
    "\n",
    "Look for tweets talking about bands and re-create data structure in a band-centered way"
   ]
  },
  {
   "cell_type": "code",
   "execution_count": 51,
   "metadata": {
    "collapsed": false
   },
   "outputs": [],
   "source": [
    "def extract_bands(tweet):\n",
    "    \"\"\"\n",
    "    Function that extracts the bands from a tweet text\n",
    "    Returns a list of bands\n",
    "    \"\"\"\n",
    "    \n",
    "    # init list to return\n",
    "    bands_in_tweet = []\n",
    "    \n",
    "    # loop all bands and check of any of the written forms is present in the tweet text\n",
    "    for i, b in bands.iterrows():\n",
    "                \n",
    "        # set different band names writing possibilities\n",
    "        bandname = b['name']\n",
    "        bandname_lowercase = bandname.lower()\n",
    "        bandname_lowercase_no_spaces = ''.join(bandname_lowercase.split())\n",
    "        bandname_lowercase_no_accents = ''.join((c for c in unicodedata.normalize('NFD', bandname_lowercase) if unicodedata.category(c) != 'Mn'))\n",
    "        bandname_lowercase_no_spaces_no_accents = ''.join((c for c in unicodedata.normalize('NFD', bandname_lowercase_no_spaces) if unicodedata.category(c) != 'Mn'))\n",
    "\n",
    "        # check if any of the forms is in the tweet text\n",
    "        if any(s in tweet['tweetText'].lower() for s in [bandname_lowercase, bandname_lowercase_no_spaces, bandname_lowercase_no_accents, bandname_lowercase_no_spaces_no_accents, b['twitterName']]):\n",
    "            bands_in_tweet.append({\"id\": b['id'], \"codedName\": b['codedName']})\n",
    "\n",
    "    return bands_in_tweet"
   ]
  },
  {
   "cell_type": "code",
   "execution_count": 52,
   "metadata": {
    "collapsed": false
   },
   "outputs": [],
   "source": [
    "def band_partition(tweet):\n",
    "    \"\"\"\n",
    "    Function that reads a single tweet info and adds into a list the tweet information partitioned by bands.\n",
    "    I.e. If a tweet mentions 2 bands, it adds a list of 2 dicts with the tweet info\n",
    "    \"\"\"\n",
    "    \n",
    "    # loop all bands and add an entry to the list\n",
    "    for b in tweet['bands']:\n",
    "        new_band_tweets_list.append({\\\n",
    "                                 \"tweetRawId\" : tweet['id'],\\\n",
    "                                 \"createdAt\" : tweet['createdAt'],\\\n",
    "                                 \"storedAt\" : tweet['storedAt'],\\\n",
    "                                 \"bandId\" : b['id'],\\\n",
    "                                 \"bandCodedName\" : b['codedName'],\\\n",
    "                                 \"favsCount\" : tweet['favsCount'],\\\n",
    "                                 \"rtsCount\" : tweet['rtsCount'],\\\n",
    "                                 \"language\" : tweet['language'],\\\n",
    "                                 \"userId\" : tweet['userId'],\\\n",
    "                                 \"userFriendsCount\" : tweet['userFriendsCount'],\\\n",
    "                                 \"userFollowersCount\" : tweet['userFollowersCount'],\\\n",
    "                                 \"userStatusesCount\" : tweet['userStatusesCount'],\\\n",
    "                                 \"userFavsCount\" : tweet['userFavsCount'],\\\n",
    "                                 \"userLocation\" : tweet['userLocation']\\\n",
    "                                })\n",
    "    \n",
    "    # Mark TweetsRaw as processed\n",
    "    db.execute(\"UPDATE TweetsRaw SET processed = 1 WHERE id == {}\".format(tweet.id))\n",
    "    connection.commit()"
   ]
  },
  {
   "cell_type": "code",
   "execution_count": 6,
   "metadata": {
    "collapsed": false
   },
   "outputs": [
    {
     "name": "stdout",
     "output_type": "stream",
     "text": [
      "No new tweets to process\n"
     ]
    }
   ],
   "source": [
    "if(tweets_to_process.shape[0] > 0):\n",
    "\n",
    "    # extract bands for each tweet\n",
    "    tweets_to_process['bands'] = tweets_to_process.apply(extract_bands, axis=1)\n",
    "\n",
    "    # construct the list of tweets per band\n",
    "    new_band_tweets_list = []\n",
    "    tweets_to_process.apply(band_partition, axis=1);\n",
    "\n",
    "    # create a dataframe from the previous list\n",
    "    new_band_tweets = pd.DataFrame.from_dict(new_band_tweets_list)\n",
    "    print(\"{} band-tweets\".format(new_band_tweets.shape[0]))\n",
    "else:\n",
    "    new_band_tweets = pd.DataFrame([])\n",
    "    print(\"No new tweets to process\")"
   ]
  },
  {
   "cell_type": "code",
   "execution_count": 7,
   "metadata": {
    "collapsed": false
   },
   "outputs": [
    {
     "name": "stdout",
     "output_type": "stream",
     "text": [
      "No new band tweets to persist\n"
     ]
    }
   ],
   "source": [
    "# Persist extracted tweets in DB (BandTweets table)\n",
    "if(new_band_tweets.shape[0] > 0):\n",
    "    new_band_tweets[['tweetRawId', 'bandId']].to_sql('BandTweets', connection, if_exists='append')\n",
    "    print(\"{} new band tweets persisted\".format(new_band_tweets.shape[0]))\n",
    "else:\n",
    "    print(\"No new band tweets to persist\")"
   ]
  },
  {
   "cell_type": "markdown",
   "metadata": {},
   "source": [
    "## Explore Band-Tweet Data"
   ]
  },
  {
   "cell_type": "code",
   "execution_count": 33,
   "metadata": {
    "collapsed": false
   },
   "outputs": [
    {
     "name": "stdout",
     "output_type": "stream",
     "text": [
      "1691 band tweets in db\n"
     ]
    }
   ],
   "source": [
    "# Construct a dataframe joining data from TweetsRaw and BandTweets\n",
    "band_tweets = pd.read_sql_query(\"SELECT bt.bandId, \\\n",
    "                                        b.name AS bandName, \\\n",
    "                                        b.codedName AS bandCodedName, \\\n",
    "                                        b.headLevel AS headLevel, \\\n",
    "                                        b.popularity AS popularity, \\\n",
    "                                        tr.* \\\n",
    "                                 FROM BandTweets AS bt\\\n",
    "                                 LEFT JOIN TweetsRaw AS tr ON bt.tweetRawId == tr.id \\\n",
    "                                 LEFT JOIN Bands AS b ON bt.bandId == b.id\", connection)\n",
    "print(\"{} band tweets in db\".format(band_tweets.shape[0]))"
   ]
  },
  {
   "cell_type": "code",
   "execution_count": 96,
   "metadata": {
    "collapsed": false
   },
   "outputs": [],
   "source": [
    "# Count tweets per band\n",
    "# print(band_tweets.groupby('bandCodedName').size().sort_values(ascending=False))"
   ]
  },
  {
   "cell_type": "code",
   "execution_count": 97,
   "metadata": {
    "collapsed": false
   },
   "outputs": [
    {
     "name": "stdout",
     "output_type": "stream",
     "text": [
      "Tweets about arcadefire:  61\n",
      "Total Favs of arcadefire: 72\n",
      "Total RTs of arcadefire:  40\n"
     ]
    }
   ],
   "source": [
    "# Count measures of a given band\n",
    "bandCodedName = 'arcadefire'\n",
    "print(\"Tweets about {}:  {}\".format(bandCodedName,band_tweets.groupby('bandCodedName').size()[bandCodedName]))\n",
    "print(\"Total Favs of {}: {}\".format(bandCodedName,band_tweets.groupby('bandCodedName').sum()['favsCount'][bandCodedName]))\n",
    "print(\"Total RTs of {}:  {}\".format(bandCodedName,band_tweets.groupby('bandCodedName').sum()['rtsCount'][bandCodedName]))"
   ]
  },
  {
   "cell_type": "markdown",
   "metadata": {},
   "source": [
    "## Hyper Score & Ranking\n",
    "\n",
    "Create the dataframe with one row per band and all the metrics associated"
   ]
  },
  {
   "cell_type": "code",
   "execution_count": 34,
   "metadata": {
    "collapsed": false
   },
   "outputs": [],
   "source": [
    "# group and sum retweets and favs tweets by band\n",
    "band_hypes = band_tweets.groupby(['bandCodedName', 'bandName', 'bandId', 'headLevel', 'popularity']).sum()\n",
    "\n",
    "# insert a column with the number of tweets\n",
    "band_hypes['tweets'] = band_tweets.groupby(['bandCodedName', 'bandName', 'bandId', 'headLevel', 'popularity']).size()\n",
    "\n",
    "# reset the index created in the group by\n",
    "band_hypes = band_hypes.reset_index()\n",
    "\n",
    "# delete not needed columns\n",
    "del band_hypes['id']\n",
    "del band_hypes['userFriendsCount']\n",
    "del band_hypes['userFollowersCount']\n",
    "del band_hypes['userStatusesCount']\n",
    "del band_hypes['userFavsCount']\n",
    "del band_hypes['processed']\n",
    "\n",
    "# add createdAt column\n",
    "band_hypes['createdAt'] = datetime.now().strftime(\"%a %b %d %H:%M:%S +0000 %Y\")\n",
    "\n",
    "# rename and re-order columns\n",
    "band_hypes = band_hypes.rename(columns={'favsCount':'favs', 'rtsCount':'retweets'})\n",
    "band_hypes = band_hypes[['bandId', 'bandCodedName', 'bandName', 'headLevel', 'popularity', 'tweets', 'favs', 'retweets', 'createdAt']]"
   ]
  },
  {
   "cell_type": "markdown",
   "metadata": {},
   "source": [
    "### BF-IBP (TF-IDF revisited)\n",
    "Band Frequency - Inverse BAnd Popularity\n",
    "- term => band\n",
    "- document => all tweets\n",
    "- corpus of documents => X\n",
    "\n",
    "#### TF: Term Frequency (normalized)\n",
    "Definition:\n",
    "- Measures how frequently a term occurs in a document\n",
    "- Measures how frequently a band is mentioned in a set of tweets\n",
    "\n",
    "Computation:\n",
    "- number of times term t appears in a document / total number of terms in the document\n",
    "- number of tweets talking about that band / total number of tweets\n",
    "\n",
    "#### IDF: Inverse Document Frequency\n",
    "Definition:\n",
    "- Measures how important a term\n",
    "- Measures how important a band is\n",
    "\n",
    "Computation:\n",
    "- log( total number of documents / number of documents with term t in it)\n",
    "- we don't have other documents so we need another way to measure how important a band is...\n",
    "  - we will consider the level of headliner of the band (according to the font size used in the festival lineup poster)\n",
    "  - 5 levels: 1 (top line-up) to 5 (bottom line-up)"
   ]
  },
  {
   "cell_type": "code",
   "execution_count": 35,
   "metadata": {
    "collapsed": false
   },
   "outputs": [],
   "source": [
    "# Compute BF-IBP (Band Frequency - Inverse Band Popularity)\n",
    "bf_numerator = band_hypes['tweets']*(1 + band_hypes['favs'] + band_hypes['retweets'])\n",
    "band_hypes['bf_ibp'] = (bf_numerator/bf_numerator.sum()) * np.log(band_hypes['popularity'].astype(float) + 1)"
   ]
  },
  {
   "cell_type": "markdown",
   "metadata": {},
   "source": [
    "### Compare Rankings"
   ]
  },
  {
   "cell_type": "code",
   "execution_count": 8,
   "metadata": {
    "collapsed": false
   },
   "outputs": [
    {
     "name": "stdout",
     "output_type": "stream",
     "text": [
      "LAST RANKING\n",
      "   bandId  tweets  favs  retweets    bf_ibp  ranking_change  ranking_position\n",
      "0     265      90    61        84  0.498339             0.0               1.0\n",
      "1      75      38    37       254  0.424746             0.0               2.0\n",
      "2      21      83    72        43  0.389408             0.0               3.0\n",
      "3      66      76    56        58  0.373799             0.0               4.0\n",
      "4     203      25     1       327  0.302497             0.0               5.0\n",
      "5      59      30    17       211  0.254044             0.0               6.0\n",
      "6     145      38    23       105  0.144739             0.0               7.0\n",
      "7     158      28    14       113  0.122683             0.0               8.0\n",
      "8      35      48    29        24  0.107551             0.0               9.0\n",
      "9     229      24    23        83  0.100435             0.0              10.0\n"
     ]
    }
   ],
   "source": [
    "# Get last ranking\n",
    "last_ranking = pd.read_sql_query(\"\"\"\n",
    "                                    SELECT * \n",
    "                                    FROM BandsHype\n",
    "                                    ORDER BY bf_ibp DESC\n",
    "                                \"\"\", \n",
    "                                connection)\n",
    "print(\"LAST RANKING\\n{}\".format(last_ranking.head(10)))"
   ]
  },
  {
   "cell_type": "code",
   "execution_count": 36,
   "metadata": {
    "collapsed": true
   },
   "outputs": [],
   "source": [
    "def compareBandPosition(band_row):\n",
    "    \"\"\"\n",
    "    Function that compares the position of a band in the current ranking (in band_row) compared to the\n",
    "    position in the last ranking\n",
    "    \"\"\"\n",
    "    new_position = band_row.ranking_position\n",
    "    last_postion = last_ranking['ranking_position'][last_ranking.bandId == band_row.bandId].values[0]\n",
    "    return last_postion - new_position"
   ]
  },
  {
   "cell_type": "code",
   "execution_count": 37,
   "metadata": {
    "collapsed": true
   },
   "outputs": [],
   "source": [
    "# add a column indicating change in ranking\n",
    "band_hypes['ranking_position'] = band_hypes['bf_ibp'].rank(ascending=0)\n",
    "band_hypes['ranking_change'] = band_hypes.apply(compareBandPosition, axis=1)"
   ]
  },
  {
   "cell_type": "markdown",
   "metadata": {},
   "source": [
    "### Detect trending now"
   ]
  },
  {
   "cell_type": "code",
   "execution_count": 98,
   "metadata": {
    "collapsed": false
   },
   "outputs": [],
   "source": [
    "# read the last N rankings from the historical table\n",
    "last_n_rankings = pd.read_sql_query(\"\"\"\n",
    "                                    SELECT * \n",
    "                                    FROM BandsHypeHis\n",
    "                                \"\"\", \n",
    "                                connection)"
   ]
  },
  {
   "cell_type": "code",
   "execution_count": 99,
   "metadata": {
    "collapsed": false
   },
   "outputs": [],
   "source": [
    "# create a datetime version of createdAt\n",
    "last_n_rankings['createdAt_datetime'] = pd.to_datetime(last_n_rankings['createdAt'], format ='%a %b %d %H:%M:%S +0000 %Y')\n",
    "\n",
    "# filter rankings of only last hour\n",
    "last_n_rankings = last_n_rankings[ last_n_rankings['createdAt_datetime'] > (datetime.now() - timedelta(hours=1))]"
   ]
  },
  {
   "cell_type": "code",
   "execution_count": 100,
   "metadata": {
    "collapsed": false
   },
   "outputs": [
    {
     "data": {
      "text/html": [
       "<div>\n",
       "<table border=\"1\" class=\"dataframe\">\n",
       "  <thead>\n",
       "    <tr style=\"text-align: right;\">\n",
       "      <th></th>\n",
       "      <th>bandId</th>\n",
       "      <th>ranking_change</th>\n",
       "    </tr>\n",
       "  </thead>\n",
       "  <tbody>\n",
       "    <tr>\n",
       "      <th>0</th>\n",
       "      <td>2</td>\n",
       "      <td>0.0</td>\n",
       "    </tr>\n",
       "    <tr>\n",
       "      <th>1</th>\n",
       "      <td>3</td>\n",
       "      <td>0.0</td>\n",
       "    </tr>\n",
       "    <tr>\n",
       "      <th>2</th>\n",
       "      <td>4</td>\n",
       "      <td>0.0</td>\n",
       "    </tr>\n",
       "    <tr>\n",
       "      <th>3</th>\n",
       "      <td>6</td>\n",
       "      <td>0.0</td>\n",
       "    </tr>\n",
       "    <tr>\n",
       "      <th>4</th>\n",
       "      <td>7</td>\n",
       "      <td>0.0</td>\n",
       "    </tr>\n",
       "  </tbody>\n",
       "</table>\n",
       "</div>"
      ],
      "text/plain": [
       "   bandId  ranking_change\n",
       "0       2             0.0\n",
       "1       3             0.0\n",
       "2       4             0.0\n",
       "3       6             0.0\n",
       "4       7             0.0"
      ]
     },
     "execution_count": 100,
     "metadata": {},
     "output_type": "execute_result"
    }
   ],
   "source": [
    "# compute accumulated ranking changes\n",
    "ranking_changes = pd.DataFrame(last_n_rankings.groupby('bandId')['ranking_change'].sum())\n",
    "ranking_changes = ranking_changes.reset_index('bandId')\n",
    "ranking_changes.head()"
   ]
  },
  {
   "cell_type": "code",
   "execution_count": 101,
   "metadata": {
    "collapsed": false
   },
   "outputs": [],
   "source": [
    "# join dfs\n",
    "band_hypes = pd.merge(band_hypes, ranking_changes, left_on='bandId', right_on='bandId', how='left')\n",
    "\n",
    "# rename columns\n",
    "del band_hypes['ranking_change_x']\n",
    "band_hypes = band_hypes.rename(columns={'ranking_change_y':'trending_level'})"
   ]
  },
  {
   "cell_type": "markdown",
   "metadata": {},
   "source": [
    "### Final Ranking"
   ]
  },
  {
   "cell_type": "code",
   "execution_count": 103,
   "metadata": {
    "collapsed": false
   },
   "outputs": [
    {
     "data": {
      "text/html": [
       "<div>\n",
       "<table border=\"1\" class=\"dataframe\">\n",
       "  <thead>\n",
       "    <tr style=\"text-align: right;\">\n",
       "      <th></th>\n",
       "      <th>bandId</th>\n",
       "      <th>bandCodedName</th>\n",
       "      <th>bandName</th>\n",
       "      <th>headLevel</th>\n",
       "      <th>popularity</th>\n",
       "      <th>tweets</th>\n",
       "      <th>favs</th>\n",
       "      <th>retweets</th>\n",
       "      <th>createdAt</th>\n",
       "      <th>bf_ibp</th>\n",
       "      <th>ranking_position</th>\n",
       "      <th>trending_level</th>\n",
       "    </tr>\n",
       "  </thead>\n",
       "  <tbody>\n",
       "    <tr>\n",
       "      <th>162</th>\n",
       "      <td>265</td>\n",
       "      <td>tie</td>\n",
       "      <td>Tiê</td>\n",
       "      <td>5</td>\n",
       "      <td>52</td>\n",
       "      <td>90</td>\n",
       "      <td>61</td>\n",
       "      <td>84</td>\n",
       "      <td>Fri May 26 13:43:48 +0000 2017</td>\n",
       "      <td>0.498339</td>\n",
       "      <td>1.0</td>\n",
       "      <td>0.0</td>\n",
       "    </tr>\n",
       "    <tr>\n",
       "      <th>54</th>\n",
       "      <td>75</td>\n",
       "      <td>grandaddy</td>\n",
       "      <td>Grandaddy</td>\n",
       "      <td>3</td>\n",
       "      <td>54</td>\n",
       "      <td>38</td>\n",
       "      <td>37</td>\n",
       "      <td>254</td>\n",
       "      <td>Fri May 26 13:43:48 +0000 2017</td>\n",
       "      <td>0.424746</td>\n",
       "      <td>2.0</td>\n",
       "      <td>0.0</td>\n",
       "    </tr>\n",
       "    <tr>\n",
       "      <th>13</th>\n",
       "      <td>21</td>\n",
       "      <td>arcadefire</td>\n",
       "      <td>Arcade Fire</td>\n",
       "      <td>1</td>\n",
       "      <td>68</td>\n",
       "      <td>83</td>\n",
       "      <td>72</td>\n",
       "      <td>43</td>\n",
       "      <td>Fri May 26 13:43:48 +0000 2017</td>\n",
       "      <td>0.389408</td>\n",
       "      <td>3.0</td>\n",
       "      <td>0.0</td>\n",
       "    </tr>\n",
       "    <tr>\n",
       "      <th>45</th>\n",
       "      <td>66</td>\n",
       "      <td>frankocean</td>\n",
       "      <td>Frank Ocean</td>\n",
       "      <td>1</td>\n",
       "      <td>87</td>\n",
       "      <td>76</td>\n",
       "      <td>56</td>\n",
       "      <td>58</td>\n",
       "      <td>Fri May 26 13:43:48 +0000 2017</td>\n",
       "      <td>0.373799</td>\n",
       "      <td>4.0</td>\n",
       "      <td>0.0</td>\n",
       "    </tr>\n",
       "    <tr>\n",
       "      <th>149</th>\n",
       "      <td>203</td>\n",
       "      <td>teenagefanclub</td>\n",
       "      <td>Teenage Fanclub</td>\n",
       "      <td>2</td>\n",
       "      <td>46</td>\n",
       "      <td>25</td>\n",
       "      <td>1</td>\n",
       "      <td>327</td>\n",
       "      <td>Fri May 26 13:43:48 +0000 2017</td>\n",
       "      <td>0.302497</td>\n",
       "      <td>5.0</td>\n",
       "      <td>0.0</td>\n",
       "    </tr>\n",
       "    <tr>\n",
       "      <th>40</th>\n",
       "      <td>59</td>\n",
       "      <td>elzasoares</td>\n",
       "      <td>Elza Soares</td>\n",
       "      <td>3</td>\n",
       "      <td>47</td>\n",
       "      <td>30</td>\n",
       "      <td>17</td>\n",
       "      <td>211</td>\n",
       "      <td>Fri May 26 13:43:48 +0000 2017</td>\n",
       "      <td>0.254044</td>\n",
       "      <td>6.0</td>\n",
       "      <td>0.0</td>\n",
       "    </tr>\n",
       "    <tr>\n",
       "      <th>103</th>\n",
       "      <td>145</td>\n",
       "      <td>museless</td>\n",
       "      <td>Museless</td>\n",
       "      <td>4</td>\n",
       "      <td>21</td>\n",
       "      <td>38</td>\n",
       "      <td>23</td>\n",
       "      <td>105</td>\n",
       "      <td>Fri May 26 13:43:48 +0000 2017</td>\n",
       "      <td>0.144739</td>\n",
       "      <td>7.0</td>\n",
       "      <td>0.0</td>\n",
       "    </tr>\n",
       "    <tr>\n",
       "      <th>114</th>\n",
       "      <td>158</td>\n",
       "      <td>pavvla</td>\n",
       "      <td>PAVVLA</td>\n",
       "      <td>4</td>\n",
       "      <td>35</td>\n",
       "      <td>28</td>\n",
       "      <td>14</td>\n",
       "      <td>113</td>\n",
       "      <td>Fri May 26 13:43:48 +0000 2017</td>\n",
       "      <td>0.122683</td>\n",
       "      <td>8.0</td>\n",
       "      <td>0.0</td>\n",
       "    </tr>\n",
       "    <tr>\n",
       "      <th>24</th>\n",
       "      <td>35</td>\n",
       "      <td>boniver</td>\n",
       "      <td>Bon Iver</td>\n",
       "      <td>1</td>\n",
       "      <td>76</td>\n",
       "      <td>48</td>\n",
       "      <td>29</td>\n",
       "      <td>24</td>\n",
       "      <td>Fri May 26 13:43:48 +0000 2017</td>\n",
       "      <td>0.107551</td>\n",
       "      <td>9.0</td>\n",
       "      <td>0.0</td>\n",
       "    </tr>\n",
       "    <tr>\n",
       "      <th>161</th>\n",
       "      <td>229</td>\n",
       "      <td>thezombies</td>\n",
       "      <td>The Zombies</td>\n",
       "      <td>3</td>\n",
       "      <td>59</td>\n",
       "      <td>24</td>\n",
       "      <td>23</td>\n",
       "      <td>83</td>\n",
       "      <td>Fri May 26 13:43:48 +0000 2017</td>\n",
       "      <td>0.100435</td>\n",
       "      <td>10.0</td>\n",
       "      <td>0.0</td>\n",
       "    </tr>\n",
       "  </tbody>\n",
       "</table>\n",
       "</div>"
      ],
      "text/plain": [
       "     bandId   bandCodedName         bandName headLevel  popularity  tweets  \\\n",
       "162     265             tie              Tiê         5          52      90   \n",
       "54       75       grandaddy        Grandaddy         3          54      38   \n",
       "13       21      arcadefire      Arcade Fire         1          68      83   \n",
       "45       66      frankocean      Frank Ocean         1          87      76   \n",
       "149     203  teenagefanclub  Teenage Fanclub         2          46      25   \n",
       "40       59      elzasoares      Elza Soares         3          47      30   \n",
       "103     145        museless         Museless         4          21      38   \n",
       "114     158          pavvla           PAVVLA         4          35      28   \n",
       "24       35         boniver         Bon Iver         1          76      48   \n",
       "161     229      thezombies      The Zombies         3          59      24   \n",
       "\n",
       "     favs  retweets                       createdAt    bf_ibp  \\\n",
       "162    61        84  Fri May 26 13:43:48 +0000 2017  0.498339   \n",
       "54     37       254  Fri May 26 13:43:48 +0000 2017  0.424746   \n",
       "13     72        43  Fri May 26 13:43:48 +0000 2017  0.389408   \n",
       "45     56        58  Fri May 26 13:43:48 +0000 2017  0.373799   \n",
       "149     1       327  Fri May 26 13:43:48 +0000 2017  0.302497   \n",
       "40     17       211  Fri May 26 13:43:48 +0000 2017  0.254044   \n",
       "103    23       105  Fri May 26 13:43:48 +0000 2017  0.144739   \n",
       "114    14       113  Fri May 26 13:43:48 +0000 2017  0.122683   \n",
       "24     29        24  Fri May 26 13:43:48 +0000 2017  0.107551   \n",
       "161    23        83  Fri May 26 13:43:48 +0000 2017  0.100435   \n",
       "\n",
       "     ranking_position  trending_level  \n",
       "162               1.0             0.0  \n",
       "54                2.0             0.0  \n",
       "13                3.0             0.0  \n",
       "45                4.0             0.0  \n",
       "149               5.0             0.0  \n",
       "40                6.0             0.0  \n",
       "103               7.0             0.0  \n",
       "114               8.0             0.0  \n",
       "24                9.0             0.0  \n",
       "161              10.0             0.0  "
      ]
     },
     "execution_count": 103,
     "metadata": {},
     "output_type": "execute_result"
    }
   ],
   "source": [
    "# band_hypes.sort_values(by='tweets', ascending=False).head(10)\n",
    "band_hypes.sort_values(by='bf_ibp', ascending=False).head(10)"
   ]
  },
  {
   "cell_type": "code",
   "execution_count": 104,
   "metadata": {
    "collapsed": false
   },
   "outputs": [],
   "source": [
    "# table with current ranking\n",
    "band_hypes[['bandId','tweets','favs','retweets','bf_ibp', 'trending_level', 'ranking_position']].to_sql(\"BandsHype\", connection, if_exists=\"replace\", index=False)\n",
    "\n",
    "# table with historical of rankings\n",
    "#band_hypes[['bandId','tweets','favs','retweets','bf_ibp', 'createdAt']].to_sql(\"BandsHypeHist\", connection_write, if_exists=\"append\", index=False)"
   ]
  },
  {
   "cell_type": "code",
   "execution_count": null,
   "metadata": {
    "collapsed": true
   },
   "outputs": [],
   "source": []
  }
 ],
 "metadata": {
  "anaconda-cloud": {},
  "kernelspec": {
   "display_name": "Python 3",
   "language": "python",
   "name": "python3"
  },
  "language_info": {
   "codemirror_mode": {
    "name": "ipython",
    "version": 3
   },
   "file_extension": ".py",
   "mimetype": "text/x-python",
   "name": "python",
   "nbconvert_exporter": "python",
   "pygments_lexer": "ipython3",
   "version": "3.6.0"
  }
 },
 "nbformat": 4,
 "nbformat_minor": 1
}
